{
 "cells": [
  {
   "cell_type": "code",
   "execution_count": 16,
   "id": "a4199c23",
   "metadata": {},
   "outputs": [],
   "source": [
    "from typing import Any, TypeVar, cast\n",
    "from ipykernel.comm import Comm\n",
    "from psygnal import EventedModel\n",
    "from pydantic import PrivateAttr\n",
    "\n",
    "\n",
    "class Displayable(EventedModel):\n",
    "    _JUPYTER_MIME = \"application/vnd.jupyter.widget-view+json\"\n",
    "    _MAX_REPR_SIZE = 110\n",
    "    _PROTOCOL_VERSION_MAJOR = 2\n",
    "    _PROTOCOL_VERSION_MINOR = 1\n",
    "    _comm: Comm = PrivateAttr(default=None)\n",
    "\n",
    "    def __init__(self, *args: Any, **kwargs: Any) -> None:\n",
    "        super().__init__(*args, **kwargs)\n",
    "        version = f\"{self._PROTOCOL_VERSION_MAJOR}.{self._PROTOCOL_VERSION_MINOR}\"\n",
    "        self._comm = Comm(\n",
    "            target_name=\"jupyter.widget\",\n",
    "            metadata={\"version\": version},\n",
    "            data={'state': self.dict()},\n",
    "        )\n",
    "\n",
    "    def _repr_mimebundle_(self, **kwargs) -> dict:\n",
    "        plaintext = repr(self)\n",
    "        if len(plaintext) > self._MAX_REPR_SIZE:\n",
    "            plaintext = f\"{plaintext[:self._MAX_REPR_SIZE]}…\"\n",
    "        return {\n",
    "            \"text/plain\": plaintext,\n",
    "            self._JUPYTER_MIME: {\n",
    "                \"version_major\": self._PROTOCOL_VERSION_MAJOR,\n",
    "                \"version_minor\": self._PROTOCOL_VERSION_MINOR,\n",
    "                \"model_id\": self._comm.comm_id,\n",
    "            },\n",
    "        }\n",
    "\n",
    "\n",
    "_BINARY_TYPES = (memoryview, bytearray, bytes)\n",
    "T = TypeVar(\"T\", list, dict, tuple)\n",
    "\n",
    "\n",
    "def _separate_buffers(substate: T, path: list, buffer_paths: list, buffers: list) -> T:\n",
    "    \"\"\"For internal, see _remove_buffers.\n",
    "\n",
    "    remove binary types from dicts and lists, but keep track of their paths any part of\n",
    "    the dict/list that needs modification will be cloned, so the original stays\n",
    "    untouched e.g. {'x': {'ar': ar}, 'y': [ar2, ar3]}, where ar/ar2/ar3 are binary types\n",
    "    will result in {'x': {}, 'y': [None, None]}, [ar, ar2, ar3], [['x', 'ar'], ['y', 0],\n",
    "    ['y', 1]] instead of removing elements from the list, this will make replacing the\n",
    "    buffers on the js side much easier\n",
    "    \"\"\"\n",
    "    _t = type(substate)\n",
    "    _sub: list | dict\n",
    "    if isinstance(substate, (list, tuple)):\n",
    "        _sub = list(substate)\n",
    "        for i, v in enumerate(substate):\n",
    "            if isinstance(v, _BINARY_TYPES):\n",
    "                _sub[i] = None\n",
    "                buffers.append(v)\n",
    "                buffer_paths.append(path + [i])\n",
    "            elif isinstance(v, (dict, list, tuple)):\n",
    "                _v = _separate_buffers(cast(\"T\", v), path + [i], buffer_paths, buffers)\n",
    "                if v is not _v:  # only assign when value changed\n",
    "                    _sub[i] = _v\n",
    "    elif isinstance(substate, dict):\n",
    "        _sub = dict(substate)\n",
    "        for k, v in substate.items():\n",
    "            if isinstance(v, _BINARY_TYPES):\n",
    "                del _sub[k]\n",
    "                buffers.append(v)\n",
    "                buffer_paths.append(path + [k])\n",
    "            elif isinstance(v, (dict, list, tuple)):\n",
    "                _v = _separate_buffers(cast(\"T\", v), path + [k], buffer_paths, buffers)\n",
    "                if v is not _v:  # only assign when value changed\n",
    "                    _sub[k] = _v\n",
    "    else:\n",
    "        raise ValueError(\"expected state to be a list or dict, not %r\" % substate)\n",
    "    return _t(_sub)\n",
    "\n",
    "\n",
    "def _remove_buffers(state: T) -> tuple[T, list[list], list[memoryview]]:\n",
    "    \"\"\"Return (state_without_buffers, buffer_paths, buffers) for binary message parts\n",
    "\n",
    "    A binary message part is a memoryview, bytearray, or python 3 bytes object.\n",
    "\n",
    "    Examples\n",
    "    --------\n",
    "    >>> ar1 = np.arange(8).reshape(4, 2)\n",
    "    >>> ar2 = np.arange(100).reshape(10, 10)\n",
    "    >>> state = {\n",
    "            'plain': [0, 'text'],\n",
    "            'x': {'ar': memoryview(ar1)},\n",
    "            'y': {'shape': (10,10), 'data': memoryview(ar2)}\n",
    "        }\n",
    "    >>> _remove_buffers(state)\n",
    "    (\n",
    "        {\n",
    "            'plain': [0, 'text'],\n",
    "            'x': {},\n",
    "            'y': {'shape': (10, 10)}\n",
    "        },\n",
    "        [['x', 'ar'], ['y', 'data']],\n",
    "        [<memory at 0x114e7fac0>, <memory at 0x114e7fed0>]\n",
    "    )\n",
    "    \"\"\"\n",
    "    buffer_paths: list = []\n",
    "    buffers: list[memoryview] = []\n",
    "    state = _separate_buffers(state, [], buffer_paths, buffers)\n",
    "    return state, buffer_paths, buffers\n"
   ]
  },
  {
   "cell_type": "code",
   "execution_count": 14,
   "id": "bbd4cdcd",
   "metadata": {},
   "outputs": [],
   "source": [
    "class T(Displayable):\n",
    "    x = 1"
   ]
  },
  {
   "cell_type": "code",
   "execution_count": 15,
   "id": "fe18aaa2",
   "metadata": {},
   "outputs": [
    {
     "data": {
      "application/vnd.jupyter.widget-view+json": {
       "model_id": "0914d6c96c3245a688fc6483e9655e8b",
       "version_major": 2,
       "version_minor": 1
      },
      "text/plain": [
       "T(x=1)"
      ]
     },
     "execution_count": 15,
     "metadata": {},
     "output_type": "execute_result"
    }
   ],
   "source": [
    "t = T()\n",
    "t"
   ]
  },
  {
   "cell_type": "code",
   "execution_count": null,
   "id": "1038224c",
   "metadata": {},
   "outputs": [],
   "source": [
    "t"
   ]
  },
  {
   "cell_type": "code",
   "execution_count": null,
   "id": "5f04b862",
   "metadata": {},
   "outputs": [],
   "source": []
  }
 ],
 "metadata": {
  "kernelspec": {
   "display_name": "Python 3 (ipykernel)",
   "language": "python",
   "name": "python3"
  },
  "language_info": {
   "codemirror_mode": {
    "name": "ipython",
    "version": 3
   },
   "file_extension": ".py",
   "mimetype": "text/x-python",
   "name": "python",
   "nbconvert_exporter": "python",
   "pygments_lexer": "ipython3",
   "version": "3.10.8"
  }
 },
 "nbformat": 4,
 "nbformat_minor": 5
}
