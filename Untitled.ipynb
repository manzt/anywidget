{
 "cells": [
  {
   "cell_type": "code",
   "execution_count": 1,
   "id": "619eefb8-74ba-413b-828d-da3ec15ff18c",
   "metadata": {},
   "outputs": [
    {
     "data": {
      "application/vnd.jupyter.widget-view+json": {
       "model_id": "dc085a177bdf406fb3c78f1978739a80",
       "version_major": 2,
       "version_minor": 0
      },
      "text/plain": [
       "CounterWidget()"
      ]
     },
     "execution_count": 1,
     "metadata": {},
     "output_type": "execute_result"
    }
   ],
   "source": [
    "import anywidget\n",
    "import traitlets\n",
    "\n",
    "import ipywidgets\n",
    "\n",
    "class CounterWidget(anywidget.AnyWidget):\n",
    "    _esm = \"\"\"\n",
    "    export function render({ model, el }) {}\n",
    "    \"\"\"\n",
    "    value = traitlets.Int(0).tag(sync=True)\n",
    "\n",
    "CounterWidget()"
   ]
  },
  {
   "cell_type": "code",
   "execution_count": null,
   "id": "50f3fece-18ab-4fea-a604-67b4791b3f21",
   "metadata": {},
   "outputs": [],
   "source": []
  },
  {
   "cell_type": "code",
   "execution_count": null,
   "id": "b78e00dd-18af-4cfc-ac9a-810efc9edb23",
   "metadata": {},
   "outputs": [],
   "source": []
  }
 ],
 "metadata": {
  "kernelspec": {
   "display_name": "Python 3 (ipykernel)",
   "language": "python",
   "name": "python3"
  },
  "language_info": {
   "codemirror_mode": {
    "name": "ipython",
    "version": 3
   },
   "file_extension": ".py",
   "mimetype": "text/x-python",
   "name": "python",
   "nbconvert_exporter": "python",
   "pygments_lexer": "ipython3",
   "version": "3.11.5"
  }
 },
 "nbformat": 4,
 "nbformat_minor": 5
}
