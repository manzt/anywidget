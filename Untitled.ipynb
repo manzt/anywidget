{
 "cells": [
  {
   "cell_type": "code",
   "execution_count": 7,
   "id": "f5a7a38c",
   "metadata": {},
   "outputs": [],
   "source": [
    "import ipywidgets\n",
    "import traitlets.traitlets as t\n",
    "\n",
    "__version__ = '0.0.1'\n",
    "\n",
    "ANYWIDGET_ATTRS = (\"_esm\", \"_module\", \"_css\")\n",
    "\n",
    "class AnyWidget(ipywidgets.DOMWidget):\n",
    "    _model_name = t.Unicode(\"AnyModel\").tag(sync=True)\n",
    "    _model_module = t.Unicode(\"anywidget\").tag(sync=True)\n",
    "    _model_module_version = t.Unicode(__version__).tag(sync=True)\n",
    "\n",
    "    _view_name = t.Unicode(\"AnyView\").tag(sync=True)\n",
    "    _view_module = t.Unicode(\"anywidget\").tag(sync=True)\n",
    "    _view_module_version = t.Unicode(__version__).tag(sync=True)\n",
    "\n",
    "    def __init__(self, *args, **kwargs) -> None:\n",
    "        super().__init__(*args, **kwargs)\n",
    "\n",
    "        # Add anywidget JS/CSS source as traits if not registered\n",
    "        anywidget_traits = {\n",
    "            k: t.Unicode(getattr(self, k)).tag(sync=True)\n",
    "            for k in ANYWIDGET_ATTRS\n",
    "            if hasattr(self, k) and not self.has_trait(k)\n",
    "        }\n",
    "\n",
    "        # TODO: a better way to uniquely identify this subclasses?\n",
    "        # We use the fully-qualified name to get an id which we\n",
    "        # can use to update CSS if necessary.\n",
    "        cls_name = f\"{self.__class__.__module__}.{self.__class__.__name__}\"\n",
    "        anywidget_traits[\"_anywidget_id\"] = t.Unicode(cls_name).tag(sync=True)\n",
    "\n",
    "        self.add_traits(**anywidget_traits)"
   ]
  },
  {
   "cell_type": "code",
   "execution_count": 8,
   "id": "59509263",
   "metadata": {},
   "outputs": [
    {
     "data": {
      "application/vnd.jupyter.widget-view+json": {
       "model_id": "8e3976620d3344be9bed1a5aec1ce25f",
       "version_major": 2,
       "version_minor": 0
      },
      "text/plain": [
       "CounterWidget()"
      ]
     },
     "execution_count": 8,
     "metadata": {},
     "output_type": "execute_result"
    }
   ],
   "source": [
    "class CounterWidget(AnyWidget):\n",
    "    _esm = \"\"\"\n",
    "    export function render(view) {\n",
    "      let count = () => view.model.get(\"value\");\n",
    "      let btn = document.createElement(\"button\");\n",
    "      btn.innerHTML = `count is ${count()}`;\n",
    "      btn.addEventListener(\"click\", () => {\n",
    "        view.model.set(\"value\", count() + 1);\n",
    "        view.model.save_changes();\n",
    "      });\n",
    "      view.model.on(\"change:value\", () => {\n",
    "        btn.innerHTML = `count is ${count()}`;\n",
    "      });\n",
    "      view.el.appendChild(btn);\n",
    "    }\n",
    "    \"\"\"\n",
    "    value = t.Int(0).tag(sync=True)\n",
    "    \n",
    "    \n",
    "    def reset(self):\n",
    "        self.value = 0\n",
    "    \n",
    "counter = CounterWidget()\n",
    "counter"
   ]
  },
  {
   "cell_type": "code",
   "execution_count": 2,
   "id": "53767549",
   "metadata": {},
   "outputs": [],
   "source": [
    "from ipykernel.comm import Comm\n",
    "from ipywidgets.widgets.widget import _remove_buffers\n",
    "from ipywidgets._version import __protocol_version__\n",
    "\n",
    "\n",
    "class Display:\n",
    "    \n",
    "    def __init__(self, widget):\n",
    "        state, buffer_paths, buffers = _remove_buffers(widget.get_state())\n",
    "        self.comm = Comm(\n",
    "            target_name='jupyter.widget',\n",
    "            data={'state': state, 'buffer_paths': buffer_paths},\n",
    "            buffers=buffers,\n",
    "            metadata={'version': __protocol_version__}\n",
    "        )\n",
    "        self._model_id = self.comm.comm_id\n",
    "        self._view_name = widget._view_name\n",
    "        \n",
    "    def _repr_mimebundle_(self, **kwargs):\n",
    "        plaintext = repr(self)\n",
    "        if len(plaintext) > 110:\n",
    "            plaintext = plaintext[:110] + '…'\n",
    "        data = { 'text/plain': plaintext }\n",
    "        if self._view_name is not None:\n",
    "            # The 'application/vnd.jupyter.widget-view+json' mimetype has not been registered yet.\n",
    "            # See the registration process and naming convention at\n",
    "            # http://tools.ietf.org/html/rfc6838\n",
    "            # and the currently registered mimetypes at\n",
    "            # http://www.iana.org/assignments/media-types/media-types.xhtml.\n",
    "            data['application/vnd.jupyter.widget-view+json'] = {\n",
    "                'version_major': 2,\n",
    "                'version_minor': 0,\n",
    "                'model_id': self._model_id\n",
    "            }\n",
    "            return data\n",
    "        \n",
    "    def get_state(self, key: str = None):\n",
    "        return { key: 10 }\n",
    "        \n",
    "    def send_state(self, key=None):\n",
    "        self._property_lock = None\n",
    "        state = self.get_state(key=key)\n",
    "        if len(state) > 0:\n",
    "            if self._property_lock:  # we need to keep this dict up to date with the front-end values\n",
    "                for name, value in state.items():\n",
    "                    if name in self._property_lock:\n",
    "                        self._property_lock[name] = value\n",
    "            state, buffer_paths, buffers = _remove_buffers(state)\n",
    "            msg = {'method': 'update', 'state': state, 'buffer_paths': buffer_paths}\n",
    "            self._send(msg, buffers=buffers)\n",
    "\n",
    "        \n",
    "    def _send(self, msg, buffers=None):\n",
    "        self.comm.send(data=msg, buffers=buffers)"
   ]
  },
  {
   "cell_type": "code",
   "execution_count": 7,
   "id": "f393e51d",
   "metadata": {},
   "outputs": [
    {
     "data": {
      "application/vnd.jupyter.widget-view+json": {
       "model_id": "6e999019a9fb4d3ab6bca1b930b5faa4",
       "version_major": 2,
       "version_minor": 0
      },
      "text/plain": [
       "<__main__.Display object at 0x111b43d30>"
      ]
     },
     "execution_count": 7,
     "metadata": {},
     "output_type": "execute_result"
    }
   ],
   "source": [
    "d = Display(counter)\n",
    "d"
   ]
  },
  {
   "cell_type": "code",
   "execution_count": 8,
   "id": "37113be3",
   "metadata": {},
   "outputs": [],
   "source": [
    "counter.reset()"
   ]
  },
  {
   "cell_type": "code",
   "execution_count": 10,
   "id": "eb4ad4bf",
   "metadata": {},
   "outputs": [
    {
     "data": {
      "application/vnd.jupyter.widget-view+json": {
       "model_id": "6e999019a9fb4d3ab6bca1b930b5faa4",
       "version_major": 2,
       "version_minor": 0
      },
      "text/plain": [
       "<__main__.Display object at 0x111b43d30>"
      ]
     },
     "execution_count": 10,
     "metadata": {},
     "output_type": "execute_result"
    }
   ],
   "source": [
    "d.send_state()\n",
    "d"
   ]
  },
  {
   "cell_type": "code",
   "execution_count": null,
   "id": "5fec6755",
   "metadata": {},
   "outputs": [],
   "source": [
    "import anywidget\n",
    "import traitlets\n",
    "\n",
    "\n",
    "class CounterWidget(anywidget.AnyWidget):\n",
    "    _esm = \"\"\"\n",
    "    export function render(view) {\n",
    "      let count = () => view.model.get(\"value\");\n",
    "      let btn = document.createElement(\"button\");\n",
    "      btn.innerHTML = `count is ${count()}`;\n",
    "      btn.addEventListener(\"click\", () => {\n",
    "        view.model.set(\"value\", count() + 1);\n",
    "        view.model.save_changes();\n",
    "      });\n",
    "      view.model.on(\"change:value\", () => {\n",
    "        btn.innerHTML = `count is ${count()}`;\n",
    "      });\n",
    "      view.el.appendChild(btn);\n",
    "    }\n",
    "    \"\"\"\n",
    "    value = traitlets.Int(0).tag(sync=True)\n",
    "    \n",
    "    \n",
    "    def reset(self):\n",
    "        self.value = 0\n",
    "    \n",
    "counter = CounterWidget()\n",
    "counter"
   ]
  }
 ],
 "metadata": {
  "kernelspec": {
   "display_name": "Python 3 (ipykernel)",
   "language": "python",
   "name": "python3"
  },
  "language_info": {
   "codemirror_mode": {
    "name": "ipython",
    "version": 3
   },
   "file_extension": ".py",
   "mimetype": "text/x-python",
   "name": "python",
   "nbconvert_exporter": "python",
   "pygments_lexer": "ipython3",
   "version": "3.10.8"
  }
 },
 "nbformat": 4,
 "nbformat_minor": 5
}
