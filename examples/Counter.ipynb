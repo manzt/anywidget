{
 "cells": [
  {
   "cell_type": "markdown",
   "id": "f1dea029-1b70-45d3-adf8-9fb0f54b4c19",
   "metadata": {},
   "source": [
    "[![Open In Colab](https://colab.research.google.com/assets/colab-badge.svg)](https://colab.research.google.com/github/manzt/anywidget/blob/main/examples/Counter.ipynb)"
   ]
  },
  {
   "cell_type": "code",
   "execution_count": null,
   "id": "c47b8145",
   "metadata": {
    "tags": []
   },
   "outputs": [],
   "source": [
    "import anywidget\n",
    "import traitlets\n",
    "\n",
    "\n",
    "class Counter(anywidget.AnyWidget):\n",
    "    _esm = \"\"\"\n",
    "    export function render(view) {\n",
    "      let count = () => view.model.get(\"value\");\n",
    "      let btn = document.createElement(\"button\");\n",
    "      btn.classList.add(\"counter-button\");\n",
    "      btn.innerHTML = `count is ${count()}`;\n",
    "      btn.addEventListener(\"click\", () => {\n",
    "        view.model.set(\"value\", count() + 1);\n",
    "        view.model.save_changes();\n",
    "      });\n",
    "      view.model.on(\"change:value\", () => {\n",
    "        btn.innerHTML = `count is ${count()}`;\n",
    "      });\n",
    "      view.el.appendChild(btn);\n",
    "    }\n",
    "    \"\"\"\n",
    "    _css = \"\"\"\n",
    "    .counter-button {\n",
    "      background-color: rgba(148, 163, 184, 0.1);\n",
    "      border-radius: 10px;\n",
    "      padding: 0.5em 1em;\n",
    "      font-size: 2em;\n",
    "    }\n",
    "    \"\"\"\n",
    "    value = traitlets.Int(0).tag(sync=True)\n",
    "\n",
    "\n",
    "counter = Counter()\n",
    "counter"
   ]
  }
 ],
 "metadata": {
  "kernelspec": {
   "display_name": "Python 3 (ipykernel)",
   "language": "python",
   "name": "python3"
  },
  "language_info": {
   "codemirror_mode": {
    "name": "ipython",
    "version": 3
   },
   "file_extension": ".py",
   "mimetype": "text/x-python",
   "name": "python",
   "nbconvert_exporter": "python",
   "pygments_lexer": "ipython3",
   "version": "3.11.0"
  },
  "widgets": {
   "application/vnd.jupyter.widget-state+json": {
    "state": {
     "0be76018ffb341bda3060a47b4e8d4c5": {
      "model_module": "@jupyter-widgets/base",
      "model_module_version": "2.0.0",
      "model_name": "LayoutModel",
      "state": {}
     },
     "2f6c05fcff3e495b913580d2af7a7c79": {
      "model_module": "@jupyter-widgets/base",
      "model_module_version": "2.0.0",
      "model_name": "LayoutModel",
      "state": {}
     },
     "5039567750744ede88b340994ef62c56": {
      "model_module": "anywidget",
      "model_module_version": "0.0.4",
      "model_name": "AnyModel",
      "state": {
       "_anywidget_id": "__main__.CounterWidget",
       "_css": "\n    .counter-button {\n      background-image: linear-gradient(to right, #a1c4fd, #c2e9fb);\n      border: 0;\n      border-radius: 10px;\n      padding: 10px 50px;\n      color: white;\n    }\n    ",
       "_esm": "\n    export function render(view) {\n      let count = () => view.model.get(\"value\");\n      let btn = document.createElement(\"button\");\n      btn.classList.add(\"counter-button\");\n      btn.innerHTML = `count is ${count()}`;\n      btn.addEventListener(\"click\", () => {\n        view.model.set(\"value\", count() + 1);\n        view.model.save_changes();\n      });\n      view.model.on(\"change:value\", () => {\n        btn.innerHTML = `count is ${count()}`;\n      });\n      view.el.appendChild(btn);\n    }\n    ",
       "_model_module": "anywidget",
       "_model_module_version": "0.0.4",
       "_model_name": "AnyModel",
       "_view_module": "anywidget",
       "_view_module_version": "0.0.4",
       "_view_name": "AnyView",
       "layout": "IPY_MODEL_2f6c05fcff3e495b913580d2af7a7c79",
       "value": 60
      }
     },
     "ddad887826c24b59b5b2cc61727ef347": {
      "model_module": "anywidget",
      "model_module_version": "0.0.4",
      "model_name": "AnyModel",
      "state": {
       "_anywidget_id": "__main__.CounterWidget",
       "_css": "\n    .counter-button {\n      background-image: linear-gradient(to right, #a1c4fd, #c2e9fb);\n      border: 0;\n      border-radius: 10px;\n      padding: 10px 50px;\n      color: white;\n    }\n    ",
       "_esm": "\n    export function render(view) {\n      let count = () => view.model.get(\"value\");\n      let btn = document.createElement(\"button\");\n      btn.classList.add(\"counter-button\");\n      btn.innerHTML = `count is ${count()}`;\n      btn.addEventListener(\"click\", () => {\n        view.model.set(\"value\", count() + 1);\n        view.model.save_changes();\n      });\n      view.model.on(\"change:value\", () => {\n        btn.innerHTML = `count is ${count()}`;\n      });\n      view.el.appendChild(btn);\n    }\n    ",
       "_model_module": "anywidget",
       "_model_module_version": "0.0.4",
       "_model_name": "AnyModel",
       "_view_module": "anywidget",
       "_view_module_version": "0.0.4",
       "_view_name": "AnyView",
       "layout": "IPY_MODEL_0be76018ffb341bda3060a47b4e8d4c5",
       "value": 0
      }
     }
    },
    "version_major": 2,
    "version_minor": 0
   }
  }
 },
 "nbformat": 4,
 "nbformat_minor": 5
}
