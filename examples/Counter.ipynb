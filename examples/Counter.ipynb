{
 "cells": [
  {
   "cell_type": "markdown",
   "id": "f1dea029-1b70-45d3-adf8-9fb0f54b4c19",
   "metadata": {},
   "source": [
    "[![Open In Colab](https://colab.research.google.com/assets/colab-badge.svg)](https://colab.research.google.com/github/manzt/anywidget/blob/main/examples/Counter.ipynb)"
   ]
  },
  {
   "cell_type": "code",
   "execution_count": 1,
   "id": "c47b8145",
   "metadata": {
    "execution": {
     "iopub.execute_input": "2023-06-18T16:10:51.469018Z",
     "iopub.status.busy": "2023-06-18T16:10:51.468707Z",
     "iopub.status.idle": "2023-06-18T16:10:51.564156Z",
     "shell.execute_reply": "2023-06-18T16:10:51.563215Z"
    },
    "tags": []
   },
   "outputs": [
    {
     "data": {
      "application/vnd.jupyter.widget-view+json": {
       "model_id": "45a61ffd762a4520b9214dbd22641b15",
       "version_major": 2,
       "version_minor": 0
      },
      "text/plain": [
       "Counter()"
      ]
     },
     "execution_count": 1,
     "metadata": {},
     "output_type": "execute_result"
    }
   ],
   "source": [
    "import anywidget\n",
    "import traitlets\n",
    "\n",
    "\n",
    "class Counter(anywidget.AnyWidget):\n",
    "    _esm = \"\"\"\n",
    "    export function render({ model, el }) {\n",
    "      let count = () => model.get(\"value\");\n",
    "      let btn = document.createElement(\"button\");\n",
    "      btn.classList.add(\"counter-button\");\n",
    "      btn.innerHTML = `count is ${count()}`;\n",
    "      btn.addEventListener(\"click\", () => {\n",
    "        model.set(\"value\", count() + 1);\n",
    "        model.save_changes();\n",
    "      });\n",
    "      model.on(\"change:value\", () => {\n",
    "        btn.innerHTML = `count is ${count()}`;\n",
    "      });\n",
    "      el.appendChild(btn);\n",
    "    }\n",
    "    \"\"\"\n",
    "    _css = \"\"\"\n",
    "    .counter-button {\n",
    "      background-color: rgba(148, 163, 184, 0.1);\n",
    "      border-radius: 10px;\n",
    "      padding: 0.5em 1em;\n",
    "      font-size: 2em;\n",
    "    }\n",
    "    \"\"\"\n",
    "    value = traitlets.Int(0).tag(sync=True)\n",
    "\n",
    "\n",
    "counter = Counter()\n",
    "counter"
   ]
  }
 ],
 "metadata": {
  "kernelspec": {
   "display_name": "Python 3 (ipykernel)",
   "language": "python",
   "name": "python3"
  },
  "language_info": {
   "codemirror_mode": {
    "name": "ipython",
    "version": 3
   },
   "file_extension": ".py",
   "mimetype": "text/x-python",
   "name": "python",
   "nbconvert_exporter": "python",
   "pygments_lexer": "ipython3",
   "version": "3.11.3"
  },
  "widgets": {
   "application/vnd.jupyter.widget-state+json": {
    "state": {
     "45a61ffd762a4520b9214dbd22641b15": {
      "model_module": "anywidget",
      "model_module_version": "0.5.0",
      "model_name": "AnyModel",
      "state": {
       "_anywidget_id": "__main__.Counter",
       "_css": "\n    .counter-button {\n      background-color: rgba(148, 163, 184, 0.1);\n      border-radius: 10px;\n      padding: 0.5em 1em;\n      font-size: 2em;\n    }\n    ",
       "_dom_classes": [],
       "_esm": "\n    export function render({ model, el }) {\n      let count = () => model.get(\"value\");\n      let btn = document.createElement(\"button\");\n      btn.classList.add(\"counter-button\");\n      btn.innerHTML = `count is ${count()}`;\n      btn.addEventListener(\"click\", () => {\n        model.set(\"value\", count() + 1);\n        model.save_changes();\n      });\n      model.on(\"change:value\", () => {\n        btn.innerHTML = `count is ${count()}`;\n      });\n      el.appendChild(btn);\n    }\n    ",
       "_model_module": "anywidget",
       "_model_module_version": "0.5.0",
       "_model_name": "AnyModel",
       "_view_count": null,
       "_view_module": "anywidget",
       "_view_module_version": "0.5.0",
       "_view_name": "AnyView",
       "layout": "IPY_MODEL_c36fdefcbce6447c9bfae4d7b2849057",
       "tabbable": null,
       "tooltip": null,
       "value": 0
      }
     },
     "c36fdefcbce6447c9bfae4d7b2849057": {
      "model_module": "@jupyter-widgets/base",
      "model_module_version": "2.0.0",
      "model_name": "LayoutModel",
      "state": {
       "_model_module": "@jupyter-widgets/base",
       "_model_module_version": "2.0.0",
       "_model_name": "LayoutModel",
       "_view_count": null,
       "_view_module": "@jupyter-widgets/base",
       "_view_module_version": "2.0.0",
       "_view_name": "LayoutView",
       "align_content": null,
       "align_items": null,
       "align_self": null,
       "border_bottom": null,
       "border_left": null,
       "border_right": null,
       "border_top": null,
       "bottom": null,
       "display": null,
       "flex": null,
       "flex_flow": null,
       "grid_area": null,
       "grid_auto_columns": null,
       "grid_auto_flow": null,
       "grid_auto_rows": null,
       "grid_column": null,
       "grid_gap": null,
       "grid_row": null,
       "grid_template_areas": null,
       "grid_template_columns": null,
       "grid_template_rows": null,
       "height": null,
       "justify_content": null,
       "justify_items": null,
       "left": null,
       "margin": null,
       "max_height": null,
       "max_width": null,
       "min_height": null,
       "min_width": null,
       "object_fit": null,
       "object_position": null,
       "order": null,
       "overflow": null,
       "padding": null,
       "right": null,
       "top": null,
       "visibility": null,
       "width": null
      }
     }
    },
    "version_major": 2,
    "version_minor": 0
   }
  }
 },
 "nbformat": 4,
 "nbformat_minor": 5
}
