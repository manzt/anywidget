{
 "cells": [
  {
   "cell_type": "code",
   "execution_count": 5,
   "id": "3eb18e90-d7c8-4f10-8bc5-fc424377e713",
   "metadata": {},
   "outputs": [],
   "source": [
    "import anywidget\n",
    "import traitlets\n",
    "\n",
    "\n",
    "class CounterWidget(anywidget.AnyWidget):\n",
    "    _esm = \"\"\"\n",
    "\n",
    "    export function render(view) {\n",
    "        function setCount(update) {\n",
    "            p.innerText = update;\n",
    "            view.model.set(\"count\", update);\n",
    "            view.model.save_changes();\n",
    "        }\n",
    "        let root = document.createElement(\"div\");\n",
    "        Object.assign(root.style, {\n",
    "            display: \"grid\",\n",
    "            gridAutoFlow: \"column\",\n",
    "            textAlign: \"center\",\n",
    "        })\n",
    "        let p = Object.assign(document.createElement(\"p\"), {\n",
    "            innerText: view.model.get(\"count\") ?? 0,\n",
    "        });\n",
    "        let decrement = Object.assign(document.createElement(\"button\"), {\n",
    "            innerText: \"-\",\n",
    "            onclick: () => setCount(view.model.get(\"count\") - 1),\n",
    "        });\n",
    "        let increment = Object.assign(document.createElement(\"button\"), {\n",
    "            innerText: \"+\",\n",
    "            onclick: () => setCount(view.model.get(\"count\") + 1),\n",
    "        });\n",
    "        root.appendChild(decrement);\n",
    "        root.appendChild(p);\n",
    "        root.appendChild(increment);\n",
    "        view.el.appendChild(root);\n",
    "    }\n",
    "    \"\"\"\n",
    "    count = traitlets.Int(0).tag(sync=True)"
   ]
  },
  {
   "cell_type": "code",
   "execution_count": 6,
   "id": "e49b44f0-8b8f-44f9-b8e6-dfa1b165c82f",
   "metadata": {},
   "outputs": [
    {
     "name": "stdout",
     "output_type": "stream",
     "text": [
      ">>>>>>>>>> AnyWidget.__init__ start\n",
      "------------------\n",
      "<class 'ipykernel.comm.comm.Comm'> publish_msg 'comm_open'\n",
      "{'buffer_paths': [],\n",
      " 'state': {'_model_module': '@jupyter-widgets/base',\n",
      "           '_model_module_version': '2.0.0',\n",
      "           '_model_name': 'LayoutModel',\n",
      "           '_view_count': None,\n",
      "           '_view_module': '@jupyter-widgets/base',\n",
      "           '_view_module_version': '2.0.0',\n",
      "           '_view_name': 'LayoutView',\n",
      "           'align_content': None,\n",
      "           'align_items': None,\n",
      "           'align_self': None,\n",
      "           'border_bottom': None,\n",
      "           'border_left': None,\n",
      "           'border_right': None,\n",
      "           'border_top': None,\n",
      "           'bottom': None,\n",
      "           'display': None,\n",
      "           'flex': None,\n",
      "           'flex_flow': None,\n",
      "           'grid_area': None,\n",
      "           'grid_auto_columns': None,\n",
      "           'grid_auto_flow': None,\n",
      "           'grid_auto_rows': None,\n",
      "           'grid_column': None,\n",
      "           'grid_gap': None,\n",
      "           'grid_row': None,\n",
      "           'grid_template_areas': None,\n",
      "           'grid_template_columns': None,\n",
      "           'grid_template_rows': None,\n",
      "           'height': None,\n",
      "           'justify_content': None,\n",
      "           'justify_items': None,\n",
      "           'left': None,\n",
      "           'margin': None,\n",
      "           'max_height': None,\n",
      "           'max_width': None,\n",
      "           'min_height': None,\n",
      "           'min_width': None,\n",
      "           'object_fit': None,\n",
      "           'object_position': None,\n",
      "           'order': None,\n",
      "           'overflow': None,\n",
      "           'padding': None,\n",
      "           'right': None,\n",
      "           'top': None,\n",
      "           'visibility': None,\n",
      "           'width': None}}\n",
      "{'version': '2.1.0'} [] {'target_name': 'jupyter.widget', 'target_module': None}\n",
      "------------------\n",
      "<class 'ipykernel.comm.comm.Comm'> publish_msg 'comm_open'\n",
      "{'buffer_paths': [],\n",
      " 'state': {'_dom_classes': (),\n",
      "           '_model_module': 'anywidget',\n",
      "           '_model_module_version': '0.1.0',\n",
      "           '_model_name': 'AnyModel',\n",
      "           '_view_count': None,\n",
      "           '_view_module': 'anywidget',\n",
      "           '_view_module_version': '0.1.0',\n",
      "           '_view_name': 'AnyView',\n",
      "           'count': 0,\n",
      "           'layout': 'IPY_MODEL_d45f3cf0efca489795a14a35ae0b3d18',\n",
      "           'tabbable': None,\n",
      "           'tooltip': None}}\n",
      "{'version': '2.1.0'} [] {'target_name': 'jupyter.widget', 'target_module': None}\n",
      "-----------\n",
      "     super().__init__. end\n",
      "------------------\n",
      "<class 'ipykernel.comm.comm.Comm'> publish_msg 'comm_msg'\n",
      "{'buffer_paths': [],\n",
      " 'method': 'update',\n",
      " 'state': {'_esm': '\\n'\n",
      "                   '\\n'\n",
      "                   '    export function render(view) {\\n'\n",
      "                   '        function setCount(update) {\\n'\n",
      "                   '            p.innerText = update;\\n'\n",
      "                   '            view.model.set(\"count\", update);\\n'\n",
      "                   '            view.model.save_changes();\\n'\n",
      "                   '        }\\n'\n",
      "                   '        let root = document.createElement(\"div\");\\n'\n",
      "                   '        Object.assign(root.style, {\\n'\n",
      "                   '            display: \"grid\",\\n'\n",
      "                   '            gridAutoFlow: \"column\",\\n'\n",
      "                   '            textAlign: \"center\",\\n'\n",
      "                   '        })\\n'\n",
      "                   '        let p = Object.assign(document.createElement(\"p\"), '\n",
      "                   '{\\n'\n",
      "                   '            innerText: view.model.get(\"count\") ?? 0,\\n'\n",
      "                   '        });\\n'\n",
      "                   '        let decrement = '\n",
      "                   'Object.assign(document.createElement(\"button\"), {\\n'\n",
      "                   '            innerText: \"-\",\\n'\n",
      "                   '            onclick: () => '\n",
      "                   'setCount(view.model.get(\"count\") - 1),\\n'\n",
      "                   '        });\\n'\n",
      "                   '        let increment = '\n",
      "                   'Object.assign(document.createElement(\"button\"), {\\n'\n",
      "                   '            innerText: \"+\",\\n'\n",
      "                   '            onclick: () => '\n",
      "                   'setCount(view.model.get(\"count\") + 1),\\n'\n",
      "                   '        });\\n'\n",
      "                   '        root.appendChild(decrement);\\n'\n",
      "                   '        root.appendChild(p);\\n'\n",
      "                   '        root.appendChild(increment);\\n'\n",
      "                   '        view.el.appendChild(root);\\n'\n",
      "                   '    }\\n'\n",
      "                   '    '}}\n",
      "None [] {}\n",
      "------------------\n",
      "<class 'ipykernel.comm.comm.Comm'> publish_msg 'comm_msg'\n",
      "{'buffer_paths': [],\n",
      " 'method': 'update',\n",
      " 'state': {'_anywidget_id': '__main__.CounterWidget'}}\n",
      "None [] {}\n",
      "<<<<<<<<< AnyWidget.__init__ end CounterWidget()\n"
     ]
    }
   ],
   "source": [
    "counter = CounterWidget()"
   ]
  },
  {
   "cell_type": "code",
   "execution_count": 7,
   "id": "b996cde2-b2f8-4528-a93b-18c09041af44",
   "metadata": {},
   "outputs": [
    {
     "name": "stdout",
     "output_type": "stream",
     "text": [
      "_repr_mimebundle_ is {'text/plain': 'CounterWidget()', 'application/vnd.jupyter.widget-view+json': {'version_major': 2, 'version_minor': 0, 'model_id': '5a8cb35c9df64b149b0ec5e470dd4dca'}}\n"
     ]
    },
    {
     "data": {
      "application/vnd.jupyter.widget-view+json": {
       "model_id": "5a8cb35c9df64b149b0ec5e470dd4dca",
       "version_major": 2,
       "version_minor": 0
      },
      "text/plain": [
       "CounterWidget()"
      ]
     },
     "execution_count": 7,
     "metadata": {},
     "output_type": "execute_result"
    }
   ],
   "source": [
    "counter"
   ]
  },
  {
   "cell_type": "code",
   "execution_count": 8,
   "id": "d0b1965e",
   "metadata": {},
   "outputs": [
    {
     "name": "stdout",
     "output_type": "stream",
     "text": [
      "------------------\n",
      "<class 'ipykernel.comm.comm.Comm'> publish_msg 'comm_msg'\n",
      "{'buffer_paths': [], 'method': 'update', 'state': {'count': 6}}\n",
      "None [] {}\n"
     ]
    }
   ],
   "source": [
    "counter.count = 6"
   ]
  },
  {
   "cell_type": "code",
   "execution_count": 9,
   "id": "a4d68bd6",
   "metadata": {},
   "outputs": [
    {
     "data": {
      "text/html": [
       "<pre style=\"white-space:pre;overflow-x:auto;line-height:normal;font-family:Menlo,'DejaVu Sans Mono',consolas,'Courier New',monospace\"><span style=\"color: #008080; text-decoration-color: #008080; font-weight: bold\">6</span>\n",
       "</pre>\n"
      ],
      "text/plain": [
       "\u001b[1;36m6\u001b[0m\n"
      ]
     },
     "metadata": {},
     "output_type": "display_data"
    }
   ],
   "source": [
    "counter.count"
   ]
  },
  {
   "cell_type": "code",
   "execution_count": 10,
   "id": "339af5c1",
   "metadata": {},
   "outputs": [
    {
     "name": "stdout",
     "output_type": "stream",
     "text": [
      "_repr_mimebundle_ is {'text/plain': 'CounterWidget(count=6)', 'application/vnd.jupyter.widget-view+json': {'version_major': 2, 'version_minor': 0, 'model_id': '5a8cb35c9df64b149b0ec5e470dd4dca'}}\n"
     ]
    },
    {
     "data": {
      "application/vnd.jupyter.widget-view+json": {
       "model_id": "5a8cb35c9df64b149b0ec5e470dd4dca",
       "version_major": 2,
       "version_minor": 0
      },
      "text/plain": [
       "CounterWidget(count=6)"
      ]
     },
     "execution_count": 10,
     "metadata": {},
     "output_type": "execute_result"
    }
   ],
   "source": [
    "counter"
   ]
  },
  {
   "cell_type": "code",
   "execution_count": null,
   "id": "05dc3d92",
   "metadata": {},
   "outputs": [],
   "source": []
  }
 ],
 "metadata": {
  "kernelspec": {
   "display_name": "Python 3 (ipykernel)",
   "language": "python",
   "name": "python3"
  },
  "language_info": {
   "codemirror_mode": {
    "name": "ipython",
    "version": 3
   },
   "file_extension": ".py",
   "mimetype": "text/x-python",
   "name": "python",
   "nbconvert_exporter": "python",
   "pygments_lexer": "ipython3",
   "version": "3.10.8"
  },
  "widgets": {
   "application/vnd.jupyter.widget-state+json": {
    "state": {},
    "version_major": 2,
    "version_minor": 0
   }
  }
 },
 "nbformat": 4,
 "nbformat_minor": 5
}
