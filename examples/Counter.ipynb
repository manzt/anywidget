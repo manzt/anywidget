{
 "cells": [
  {
   "cell_type": "code",
   "execution_count": null,
   "id": "0c901bce-4e6e-4a5c-b049-8432e29d6a07",
   "metadata": {},
   "outputs": [],
   "source": [
    "!pip install anywidget"
   ]
  },
  {
   "cell_type": "code",
   "execution_count": null,
   "id": "3eb18e90-d7c8-4f10-8bc5-fc424377e713",
   "metadata": {},
   "outputs": [],
   "source": [
    "import anywidget\n",
    "import traitlets\n",
    "\n",
    "\n",
    "class CounterWidget(anywidget.AnyWidget):\n",
    "    _esm = \"\"\"\n",
    "    export function render(view) {\n",
    "        function setCount(update) {\n",
    "            p.innerText = update;\n",
    "            view.model.set(\"count\", update);\n",
    "            view.model.save_changes();\n",
    "        }\n",
    "        let root = document.createElement(\"div\");\n",
    "        Object.assign(root.style, {\n",
    "            display: \"grid\",\n",
    "            gridAutoFlow: \"column\",\n",
    "            textAlign: \"center\",\n",
    "        })\n",
    "        let p = Object.assign(document.createElement(\"p\"), {\n",
    "            innerText: view.model.get(\"count\") ?? 0,\n",
    "        });\n",
    "        let decrement = Object.assign(document.createElement(\"button\"), {\n",
    "            innerText: \"-\",\n",
    "            onclick: () => setCount(view.model.get(\"count\") - 1),\n",
    "        });\n",
    "        let increment = Object.assign(document.createElement(\"button\"), {\n",
    "            innerText: \"+\",\n",
    "            onclick: () => setCount(view.model.get(\"count\") + 1),\n",
    "        });\n",
    "        root.appendChild(decrement);\n",
    "        root.appendChild(p);\n",
    "        root.appendChild(increment);\n",
    "        view.el.appendChild(root);\n",
    "    }\n",
    "    \"\"\"\n",
    "    count = traitlets.Int(0).tag(sync=True)"
   ]
  },
  {
   "cell_type": "code",
   "execution_count": null,
   "id": "e49b44f0-8b8f-44f9-b8e6-dfa1b165c82f",
   "metadata": {},
   "outputs": [],
   "source": [
    "counter = CounterWidget()\n",
    "counter"
   ]
  },
  {
   "cell_type": "code",
   "execution_count": null,
   "id": "b996cde2-b2f8-4528-a93b-18c09041af44",
   "metadata": {},
   "outputs": [],
   "source": [
    "counter.count"
   ]
  }
 ],
 "metadata": {
  "kernelspec": {
   "display_name": "Python 3 (ipykernel)",
   "language": "python",
   "name": "python3"
  },
  "language_info": {
   "codemirror_mode": {
    "name": "ipython",
    "version": 3
   },
   "file_extension": ".py",
   "mimetype": "text/x-python",
   "name": "python",
   "nbconvert_exporter": "python",
   "pygments_lexer": "ipython3",
   "version": "3.11.0"
  },
  "widgets": {
   "application/vnd.jupyter.widget-state+json": {
    "state": {},
    "version_major": 2,
    "version_minor": 0
   }
  }
 },
 "nbformat": 4,
 "nbformat_minor": 5
}
