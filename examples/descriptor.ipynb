{
 "cells": [
  {
   "cell_type": "code",
   "execution_count": 1,
   "metadata": {},
   "outputs": [
    {
     "name": "stdout",
     "output_type": "stream",
     "text": [
      "{}\n"
     ]
    }
   ],
   "source": [
    "from anywidget._descriptor import AnyWidget"
   ]
  },
  {
   "cell_type": "code",
   "execution_count": 2,
   "metadata": {},
   "outputs": [
    {
     "name": "stdout",
     "output_type": "stream",
     "text": [
      "{'esm': '\\nexport function render(view) {\\n    let count = () => view.model.get(\"value\");\\n    let btn = document.createElement(\"button\");\\n    btn.innerHTML = `count is ${count()}`;\\n    btn.addEventListener(\"click\", () => {\\n    view.model.set(\"value\", count() + 1);\\n    view.model.save_changes();\\n    });\\n    view.model.on(\"change:value\", () => {\\n    btn.innerHTML = `count is ${count()}`;\\n    });\\n    view.model.on(\"change:value\", (...args) => {\\n    \\n        console.log(...args)\\n    })\\n    view.el.appendChild(btn);\\n}    \\n'}\n"
     ]
    }
   ],
   "source": [
    "ESM = \"\"\"\n",
    "export function render(view) {\n",
    "    let count = () => view.model.get(\"value\");\n",
    "    let btn = document.createElement(\"button\");\n",
    "    btn.innerHTML = `count is ${count()}`;\n",
    "    btn.addEventListener(\"click\", () => {\n",
    "    view.model.set(\"value\", count() + 1);\n",
    "    view.model.save_changes();\n",
    "    });\n",
    "    view.model.on(\"change:value\", () => {\n",
    "    btn.innerHTML = `count is ${count()}`;\n",
    "    });\n",
    "    view.model.on(\"change:value\", (...args) => {\n",
    "    \n",
    "        console.log(...args)\n",
    "    })\n",
    "    view.el.appendChild(btn);\n",
    "}    \n",
    "\"\"\"\n",
    "\n",
    "\n",
    "class Counter(AnyWidget, esm=ESM):\n",
    "    value: int = 0\n",
    "\n",
    "\n",
    "d = Counter()"
   ]
  },
  {
   "cell_type": "code",
   "execution_count": 10,
   "metadata": {},
   "outputs": [
    {
     "data": {
      "application/vnd.jupyter.widget-view+json": {
       "model_id": "2bafc444a998403aa8ce5c6978a4a181",
       "version_major": 2,
       "version_minor": 1
      },
      "text/plain": [
       "<anywidget._descriptor.MimeReprCaller object at 0x10b1767d0>"
      ]
     },
     "execution_count": 10,
     "metadata": {},
     "output_type": "execute_result"
    }
   ],
   "source": [
    "d"
   ]
  },
  {
   "cell_type": "code",
   "execution_count": 4,
   "metadata": {},
   "outputs": [],
   "source": [
    "d.value = 7"
   ]
  },
  {
   "cell_type": "code",
   "execution_count": 5,
   "metadata": {},
   "outputs": [
    {
     "data": {
      "text/plain": [
       "7"
      ]
     },
     "execution_count": 5,
     "metadata": {},
     "output_type": "execute_result"
    }
   ],
   "source": [
    "d.value"
   ]
  },
  {
   "cell_type": "code",
   "execution_count": 6,
   "metadata": {},
   "outputs": [],
   "source": [
    "del d"
   ]
  },
  {
   "cell_type": "code",
   "execution_count": 7,
   "metadata": {},
   "outputs": [],
   "source": [
    "d.value = 17"
   ]
  },
  {
   "cell_type": "code",
   "execution_count": 8,
   "metadata": {},
   "outputs": [],
   "source": [
    "d2 = Counter(5)"
   ]
  },
  {
   "cell_type": "code",
   "execution_count": 9,
   "metadata": {},
   "outputs": [
    {
     "data": {
      "application/vnd.jupyter.widget-view+json": {
       "model_id": "967a5e6da3c34630b9aafa4d582d48b8",
       "version_major": 2,
       "version_minor": 1
      },
      "text/plain": [
       "<anywidget._descriptor.MimeReprCaller object at 0x1150ce920>"
      ]
     },
     "execution_count": 9,
     "metadata": {},
     "output_type": "execute_result"
    }
   ],
   "source": [
    "d2"
   ]
  },
  {
   "cell_type": "code",
   "execution_count": 17,
   "metadata": {},
   "outputs": [],
   "source": [
    "d2._repr_mimebundle_.bind_instance()"
   ]
  },
  {
   "cell_type": "code",
   "execution_count": 15,
   "metadata": {},
   "outputs": [],
   "source": [
    "d2.value = 9"
   ]
  },
  {
   "cell_type": "code",
   "execution_count": 19,
   "metadata": {},
   "outputs": [
    {
     "data": {
      "text/plain": [
       "11"
      ]
     },
     "execution_count": 19,
     "metadata": {},
     "output_type": "execute_result"
    }
   ],
   "source": [
    "d2.value"
   ]
  },
  {
   "cell_type": "code",
   "execution_count": null,
   "metadata": {},
   "outputs": [],
   "source": []
  }
 ],
 "metadata": {
  "kernelspec": {
   "display_name": "Python 3 (ipykernel)",
   "language": "python",
   "name": "python3"
  },
  "language_info": {
   "codemirror_mode": {
    "name": "ipython",
    "version": 3
   },
   "file_extension": ".py",
   "mimetype": "text/x-python",
   "name": "python",
   "nbconvert_exporter": "python",
   "pygments_lexer": "ipython3",
   "version": "3.10.8"
  },
  "vscode": {
   "interpreter": {
    "hash": "daf9d356fc4ec5f7678b079fa736d7e4d8fe1479c13995af109a6caaa586a284"
   }
  }
 },
 "nbformat": 4,
 "nbformat_minor": 2
}
