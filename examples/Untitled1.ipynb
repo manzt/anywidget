{
 "cells": [
  {
   "cell_type": "code",
   "execution_count": 5,
   "id": "cf2160ee",
   "metadata": {},
   "outputs": [],
   "source": [
    "%autoreload 2\n",
    "from anywidget import AnyWidget\n",
    "from anywidget._displayable import Displayable\n",
    "import traitlets"
   ]
  },
  {
   "cell_type": "code",
   "execution_count": 6,
   "id": "639324e0",
   "metadata": {},
   "outputs": [],
   "source": [
    "class T(AnyWidget):\n",
    "    value = traitlets.Int(0).tag(sync=True)"
   ]
  },
  {
   "cell_type": "code",
   "execution_count": 7,
   "id": "95b1b5fd",
   "metadata": {},
   "outputs": [
    {
     "name": "stdout",
     "output_type": "stream",
     "text": [
      ">>>>>>>>>> AnyWidget.__init__ start\n",
      "-----------\n",
      "     super().__init__. end\n"
     ]
    }
   ],
   "source": [
    "t = T()"
   ]
  },
  {
   "cell_type": "code",
   "execution_count": 8,
   "id": "238f52c7",
   "metadata": {},
   "outputs": [
    {
     "data": {
      "application/vnd.jupyter.widget-view+json": {
       "model_id": "e1e4a4ef2337452f8d0fa46a73bbc6dc",
       "version_major": 2,
       "version_minor": 0
      },
      "text/plain": [
       "T()"
      ]
     },
     "execution_count": 8,
     "metadata": {},
     "output_type": "execute_result"
    }
   ],
   "source": [
    "t"
   ]
  },
  {
   "cell_type": "code",
   "execution_count": null,
   "id": "7a0f5b2e",
   "metadata": {},
   "outputs": [],
   "source": []
  }
 ],
 "metadata": {
  "kernelspec": {
   "display_name": "Python 3 (ipykernel)",
   "language": "python",
   "name": "python3"
  },
  "language_info": {
   "codemirror_mode": {
    "name": "ipython",
    "version": 3
   },
   "file_extension": ".py",
   "mimetype": "text/x-python",
   "name": "python",
   "nbconvert_exporter": "python",
   "pygments_lexer": "ipython3",
   "version": "3.10.8"
  }
 },
 "nbformat": 4,
 "nbformat_minor": 5
}
