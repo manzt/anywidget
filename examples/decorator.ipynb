{
 "cells": [
  {
   "cell_type": "code",
   "execution_count": 1,
   "metadata": {},
   "outputs": [
    {
     "name": "stdout",
     "output_type": "stream",
     "text": [
      "The autoreload extension is already loaded. To reload it, use:\n",
      "  %reload_ext autoreload\n"
     ]
    }
   ],
   "source": [
    "%load_ext autoreload\n",
    "%autoreload 2\n",
    "from anywidget._decorator import anywidget"
   ]
  },
  {
   "cell_type": "code",
   "execution_count": 2,
   "metadata": {},
   "outputs": [],
   "source": [
    "esm = \"\"\"\n",
    "export function render(view) {\n",
    "    let count = () => view.model.get(\"value\");\n",
    "    let btn = document.createElement(\"button\");\n",
    "    btn.innerHTML = `count is ${count()}`;\n",
    "    btn.addEventListener(\"click\", () => {\n",
    "    view.model.set(\"value\", count() + 1);\n",
    "    view.model.save_changes();\n",
    "    });\n",
    "    view.model.on(\"change:value\", () => {\n",
    "    btn.innerHTML = `count is ${count()}`;\n",
    "    });\n",
    "    view.model.on(\"change:value\", (...args) => {\n",
    "    \n",
    "        console.log(...args)\n",
    "    })\n",
    "    view.el.appendChild(btn);\n",
    "}    \n",
    "\"\"\"\n",
    "\n",
    "@anywidget(esm=esm)\n",
    "class Counter:\n",
    "    value: int = 0\n",
    "\n",
    "d = Counter()"
   ]
  },
  {
   "cell_type": "code",
   "execution_count": 3,
   "metadata": {},
   "outputs": [
    {
     "data": {
      "application/vnd.jupyter.widget-view+json": {
       "model_id": "5e977015f36e45cdbe3edfef83805e44",
       "version_major": 2,
       "version_minor": 1
      },
      "text/plain": [
       "CounterWidget(value=0)"
      ]
     },
     "execution_count": 3,
     "metadata": {},
     "output_type": "execute_result"
    }
   ],
   "source": [
    "d"
   ]
  },
  {
   "cell_type": "code",
   "execution_count": 4,
   "metadata": {},
   "outputs": [],
   "source": [
    "d.value = 5"
   ]
  },
  {
   "cell_type": "code",
   "execution_count": 5,
   "metadata": {},
   "outputs": [
    {
     "data": {
      "text/plain": [
       "5"
      ]
     },
     "execution_count": 5,
     "metadata": {},
     "output_type": "execute_result"
    }
   ],
   "source": [
    "d.value"
   ]
  },
  {
   "cell_type": "code",
   "execution_count": 6,
   "metadata": {},
   "outputs": [
    {
     "data": {
      "application/vnd.jupyter.widget-view+json": {
       "model_id": "5e977015f36e45cdbe3edfef83805e44",
       "version_major": 2,
       "version_minor": 1
      },
      "text/plain": [
       "CounterWidget(value=5)"
      ]
     },
     "execution_count": 6,
     "metadata": {},
     "output_type": "execute_result"
    }
   ],
   "source": [
    "d"
   ]
  },
  {
   "cell_type": "code",
   "execution_count": 7,
   "metadata": {},
   "outputs": [],
   "source": [
    "d.value = 10"
   ]
  }
 ],
 "metadata": {
  "kernelspec": {
   "display_name": "Python 3 (ipykernel)",
   "language": "python",
   "name": "python3"
  },
  "language_info": {
   "codemirror_mode": {
    "name": "ipython",
    "version": 3
   },
   "file_extension": ".py",
   "mimetype": "text/x-python",
   "name": "python",
   "nbconvert_exporter": "python",
   "pygments_lexer": "ipython3",
   "version": "3.10.8"
  },
  "vscode": {
   "interpreter": {
    "hash": "daf9d356fc4ec5f7678b079fa736d7e4d8fe1479c13995af109a6caaa586a284"
   }
  }
 },
 "nbformat": 4,
 "nbformat_minor": 2
}
