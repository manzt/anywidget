{
 "cells": [
  {
   "cell_type": "code",
   "execution_count": 1,
   "metadata": {},
   "outputs": [
    {
     "name": "stdout",
     "output_type": "stream",
     "text": [
      "The autoreload extension is already loaded. To reload it, use:\n",
      "  %reload_ext autoreload\n"
     ]
    }
   ],
   "source": [
    "%load_ext autoreload\n",
    "%autoreload 2\n",
    "from anywidget._decorator import anywidget"
   ]
  },
  {
   "cell_type": "code",
   "execution_count": 2,
   "metadata": {},
   "outputs": [
    {
     "name": "stdout",
     "output_type": "stream",
     "text": [
      "content {'data': {'state': {'_model_module': 'anywidget', '_model_name': 'AnyModel', '_model_module_version': '0.1.0', '_view_count': None, '_view_module': 'anywidget', '_view_name': 'AnyView', '_view_module_version': '0.1.0'}}, 'comm_id': '985da644c4ee45279f5f8b5792c852bf', 'target_name': 'jupyter.widget', 'target_module': None}\n",
      "\n",
      ":::::return state {'_esm': '\\nexport function render(view) {\\n    let count = () => view.model.get(\"value\");\\n    let btn = document.createElement(\"button\");\\n    btn.innerHTML = `count is ${count()}`;\\n    btn.addEventListener(\"click\", () => {\\n    view.model.set(\"value\", count() + 1);\\n    view.model.save_changes();\\n    });\\n    view.model.on(\"change:value\", () => {\\n    btn.innerHTML = `count is ${count()}`;\\n    });\\n    view.model.on(\"change:value\", (...args) => {\\n    \\n        console.log(...args)\\n    })\\n    view.el.appendChild(btn);\\n}    \\n'}\n",
      "content {'data': {'method': 'update', 'state': {'_esm': '\\nexport function render(view) {\\n    let count = () => view.model.get(\"value\");\\n    let btn = document.createElement(\"button\");\\n    btn.innerHTML = `count is ${count()}`;\\n    btn.addEventListener(\"click\", () => {\\n    view.model.set(\"value\", count() + 1);\\n    view.model.save_changes();\\n    });\\n    view.model.on(\"change:value\", () => {\\n    btn.innerHTML = `count is ${count()}`;\\n    });\\n    view.model.on(\"change:value\", (...args) => {\\n    \\n        console.log(...args)\\n    })\\n    view.el.appendChild(btn);\\n}    \\n'}, 'buffer_paths': []}, 'comm_id': '985da644c4ee45279f5f8b5792c852bf'}\n"
     ]
    },
    {
     "name": "stderr",
     "output_type": "stream",
     "text": [
      "/Users/talley/mambaforge/envs/anywidget/lib/python3.10/site-packages/psygnal/_evented_decorator.py:284: UserWarning: No mutable fields found in class <class 'anywidget._decorator.CounterWidget'> no events will be emitted. (Is this a dataclass, attrs, or pydantic model?)\n",
      "  warnings.warn(\n"
     ]
    }
   ],
   "source": [
    "esm = \"\"\"\n",
    "export function render(view) {\n",
    "    let count = () => view.model.get(\"value\");\n",
    "    let btn = document.createElement(\"button\");\n",
    "    btn.innerHTML = `count is ${count()}`;\n",
    "    btn.addEventListener(\"click\", () => {\n",
    "    view.model.set(\"value\", count() + 1);\n",
    "    view.model.save_changes();\n",
    "    });\n",
    "    view.model.on(\"change:value\", () => {\n",
    "    btn.innerHTML = `count is ${count()}`;\n",
    "    });\n",
    "    view.model.on(\"change:value\", (...args) => {\n",
    "    \n",
    "        console.log(...args)\n",
    "    })\n",
    "    view.el.appendChild(btn);\n",
    "}    \n",
    "\"\"\"\n",
    "\n",
    "@anywidget(esm=esm)\n",
    "class Counter:\n",
    "    value: int = 0\n",
    "\n",
    "d = Counter()"
   ]
  },
  {
   "cell_type": "code",
   "execution_count": 3,
   "metadata": {},
   "outputs": [
    {
     "data": {
      "application/vnd.jupyter.widget-view+json": {
       "model_id": "985da644c4ee45279f5f8b5792c852bf",
       "version_major": 2,
       "version_minor": 1
      },
      "text/plain": [
       "CounterWidget()"
      ]
     },
     "execution_count": 3,
     "metadata": {},
     "output_type": "execute_result"
    }
   ],
   "source": [
    "d"
   ]
  },
  {
   "cell_type": "code",
   "execution_count": 6,
   "metadata": {},
   "outputs": [],
   "source": [
    "d.value = 5"
   ]
  },
  {
   "cell_type": "code",
   "execution_count": 7,
   "metadata": {},
   "outputs": [
    {
     "data": {
      "text/plain": [
       "5"
      ]
     },
     "execution_count": 7,
     "metadata": {},
     "output_type": "execute_result"
    }
   ],
   "source": [
    "d.value"
   ]
  },
  {
   "cell_type": "code",
   "execution_count": 75,
   "metadata": {},
   "outputs": [
    {
     "data": {
      "application/vnd.jupyter.widget-view+json": {
       "model_id": "e5c9f27668e045ad8fd2e5a896826d45",
       "version_major": 2,
       "version_minor": 1
      },
      "text/plain": [
       "Counter()"
      ]
     },
     "execution_count": 75,
     "metadata": {},
     "output_type": "execute_result"
    }
   ],
   "source": [
    "d"
   ]
  },
  {
   "cell_type": "code",
   "execution_count": 20,
   "metadata": {},
   "outputs": [],
   "source": [
    "d.value = 10"
   ]
  },
  {
   "cell_type": "code",
   "execution_count": 4,
   "metadata": {},
   "outputs": [
    {
     "data": {
      "text/plain": [
       "{}"
      ]
     },
     "execution_count": 4,
     "metadata": {},
     "output_type": "execute_result"
    }
   ],
   "source": [
    "from dataclasses import is_dataclass, asdict\n",
    "asdict(d)\n"
   ]
  },
  {
   "cell_type": "code",
   "execution_count": 18,
   "metadata": {},
   "outputs": [
    {
     "name": "stdout",
     "output_type": "stream",
     "text": [
      "ADD EVENTED\n"
     ]
    },
    {
     "data": {
      "text/plain": [
       "(Field(name='value',type=<class 'int'>,default=0,default_factory=<dataclasses._MISSING_TYPE object at 0x106878130>,init=True,repr=True,hash=None,compare=True,metadata=mappingproxy({}),kw_only=False,_field_type=_FIELD),)"
      ]
     },
     "execution_count": 18,
     "metadata": {},
     "output_type": "execute_result"
    }
   ],
   "source": [
    "from dataclasses import fields, is_dataclass, dataclass\n",
    "from psygnal import evented\n",
    "from anywidget._decorator import anywidget\n",
    "\n",
    "@anywidget\n",
    "@dataclass\n",
    "class A:\n",
    "    value: int = 0\n",
    "        \n",
    "fields(A)"
   ]
  },
  {
   "cell_type": "code",
   "execution_count": 19,
   "metadata": {},
   "outputs": [
    {
     "name": "stdout",
     "output_type": "stream",
     "text": [
      "content {'data': {'state': {'_model_module': 'anywidget', '_model_name': 'AnyModel', '_model_module_version': '0.1.0', '_view_count': None, '_view_module': 'anywidget', '_view_name': 'AnyView', '_view_module_version': '0.1.0'}}, 'comm_id': 'b9621264c21a42aa8761ee6c53df76b6', 'target_name': 'jupyter.widget', 'target_module': None}\n",
      "\n",
      ":::::return state {'value': 0, '_esm': ''}\n",
      "content {'data': {'method': 'update', 'state': {'value': 0, '_esm': ''}, 'buffer_paths': []}, 'comm_id': 'b9621264c21a42aa8761ee6c53df76b6'}\n"
     ]
    },
    {
     "data": {
      "application/vnd.jupyter.widget-view+json": {
       "model_id": "b9621264c21a42aa8761ee6c53df76b6",
       "version_major": 2,
       "version_minor": 1
      },
      "text/plain": [
       "AWidget(value=0)"
      ]
     },
     "execution_count": 19,
     "metadata": {},
     "output_type": "execute_result"
    }
   ],
   "source": [
    "A()"
   ]
  },
  {
   "cell_type": "code",
   "execution_count": 20,
   "metadata": {},
   "outputs": [
    {
     "name": "stdout",
     "output_type": "stream",
     "text": [
      "content {'data': {'state': {'_model_module': 'anywidget', '_model_name': 'AnyModel', '_model_module_version': '0.1.0', '_view_count': None, '_view_module': 'anywidget', '_view_name': 'AnyView', '_view_module_version': '0.1.0'}}, 'comm_id': 'e9dcec8fe46c42779efaa3f3fc9eb648', 'target_name': 'jupyter.widget', 'target_module': None}\n",
      "\n",
      ":::::return state {'value': 0, '_esm': ''}\n",
      "content {'data': {'method': 'update', 'state': {'value': 0, '_esm': ''}, 'buffer_paths': []}, 'comm_id': 'e9dcec8fe46c42779efaa3f3fc9eb648'}\n"
     ]
    },
    {
     "data": {
      "text/plain": [
       "{'value': 0}"
      ]
     },
     "execution_count": 20,
     "metadata": {},
     "output_type": "execute_result"
    }
   ],
   "source": [
    "a = A()\n",
    "asdict(a)"
   ]
  },
  {
   "cell_type": "code",
   "execution_count": null,
   "metadata": {},
   "outputs": [],
   "source": []
  }
 ],
 "metadata": {
  "kernelspec": {
   "display_name": "Python 3 (ipykernel)",
   "language": "python",
   "name": "python3"
  },
  "language_info": {
   "codemirror_mode": {
    "name": "ipython",
    "version": 3
   },
   "file_extension": ".py",
   "mimetype": "text/x-python",
   "name": "python",
   "nbconvert_exporter": "python",
   "pygments_lexer": "ipython3",
   "version": "3.10.8"
  },
  "vscode": {
   "interpreter": {
    "hash": "daf9d356fc4ec5f7678b079fa736d7e4d8fe1479c13995af109a6caaa586a284"
   }
  }
 },
 "nbformat": 4,
 "nbformat_minor": 2
}
