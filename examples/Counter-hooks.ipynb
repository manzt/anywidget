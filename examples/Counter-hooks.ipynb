{
 "cells": [
  {
   "cell_type": "code",
   "execution_count": null,
   "id": "894fb97f-114d-451f-bce1-16ecb0f3e615",
   "metadata": {},
   "outputs": [],
   "source": [
    "!pip install anywidget"
   ]
  },
  {
   "cell_type": "code",
   "execution_count": null,
   "id": "fc81c081-5807-4711-9123-a7eaef21ec57",
   "metadata": {},
   "outputs": [],
   "source": [
    "import anywidget\n",
    "import traitlets\n",
    "\n",
    "ESM = \"\"\"\n",
    "import * as p from 'https://unpkg.com/htm/preact/standalone.module.js'\n",
    "\n",
    "// HOOKS\n",
    "let WidgetModelContext = p.createContext(undefined);\n",
    "\n",
    "function useModelState(name) {\n",
    "    let model = p.useContext(WidgetModelContext);\n",
    "    let [state, setState] = p.useState(model.get(name));\n",
    "    p.useEffect(() => {\n",
    "        let event = `change:${name}`;\n",
    "        function callback(model) {\n",
    "            setState(model.get(name));\n",
    "        }\n",
    "        model.on(event, callback);\n",
    "        return () => {\n",
    "            model.off(event, callback);\n",
    "        }\n",
    "    }, [model, name])\n",
    "    return [state, (val, options) => {\n",
    "        model.set(name, val, options);\n",
    "        model.save_changes();\n",
    "    }];\n",
    "}\n",
    "\n",
    "function Counter() {\n",
    "    let [count, setCount] = useModelState(\"count\");\n",
    "    return p.html`<div style=${{ display: \"grid\", gridAutoFlow: \"column\", textAlign: \"center\" }}>\n",
    "        <button onClick=${() => setCount(count - 1)}> - </button>\n",
    "        <p>${count}</p>\n",
    "        <button onClick=${() => setCount(count + 1)}> + </button>\n",
    "    </div>`;\n",
    "    \n",
    "}\n",
    "\n",
    "export function render(view) {\n",
    "    p.render(p.html`<${WidgetModelContext.Provider} value=${view.model}>\n",
    "        <${Counter} />\n",
    "    </${WidgetModelContext.Provider}>`, view.el);\n",
    "}\n",
    "\"\"\"\n",
    "\n",
    "class CounterWidget(anywidget.AnyWidget):\n",
    "    _esm = ESM\n",
    "    count = traitlets.Int(0).tag(sync=True)"
   ]
  },
  {
   "cell_type": "code",
   "execution_count": null,
   "id": "d0019cca-e77f-46ed-9a59-364cd33a3217",
   "metadata": {},
   "outputs": [],
   "source": [
    "counter = CounterWidget()\n",
    "counter"
   ]
  },
  {
   "cell_type": "code",
   "execution_count": null,
   "id": "f95d5217-67e1-4080-a769-68ef5ef10ff1",
   "metadata": {},
   "outputs": [],
   "source": [
    "counter.count = 5"
   ]
  }
 ],
 "metadata": {
  "kernelspec": {
   "display_name": "Python 3 (ipykernel)",
   "language": "python",
   "name": "python3"
  },
  "language_info": {
   "codemirror_mode": {
    "name": "ipython",
    "version": 3
   },
   "file_extension": ".py",
   "mimetype": "text/x-python",
   "name": "python",
   "nbconvert_exporter": "python",
   "pygments_lexer": "ipython3",
   "version": "3.11.0"
  }
 },
 "nbformat": 4,
 "nbformat_minor": 5
}
