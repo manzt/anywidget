{
 "cells": [
  {
   "cell_type": "code",
   "execution_count": 1,
   "id": "cf2160ee",
   "metadata": {},
   "outputs": [],
   "source": [
    "from anywidget._displayable import Displayable"
   ]
  },
  {
   "cell_type": "code",
   "execution_count": 2,
   "id": "874de382",
   "metadata": {},
   "outputs": [],
   "source": [
    "class Counter(Displayable):\n",
    "    esm = \"\"\"\n",
    "        import { html, render as _render } from 'https://unpkg.com/htm/preact/standalone.module.js';\n",
    "\n",
    "        export function render(view) {\n",
    "            let ref = {};\n",
    "            function setCount(update) {\n",
    "                ref.current.innerText = update;\n",
    "                view.model.set(\"count\", update);\n",
    "                view.model.save_changes();\n",
    "            }\n",
    "            _render(\n",
    "                html`<div style=${{ display: \"grid\", gridAutoFlow: \"column\", textAlign: \"center\" }}>\n",
    "                    <button onClick=${() => setCount(view.model.get(\"count\") - 1)}> - </button>\n",
    "                    <p ref=${ref}>${view.model.get(\"count\")}</p>\n",
    "                    <button onClick=${() => setCount(view.model.get(\"count\") + 1)}> + </button>\n",
    "                </div>`,\n",
    "                view.el,\n",
    "            );\n",
    "        }\n",
    "        \"\"\"\n",
    "    count: int = 0\n",
    "\n",
    "\n",
    "d = Counter()"
   ]
  },
  {
   "cell_type": "code",
   "execution_count": 3,
   "id": "7d444f95",
   "metadata": {},
   "outputs": [
    {
     "data": {
      "application/vnd.jupyter.widget-view+json": {
       "model_id": "dd48cfaeaded493f81a4da0de567f573",
       "version_major": 2,
       "version_minor": 1
      },
      "text/plain": [
       "Counter(esm='\\n        import { html, render as _render } from \\'https://unpkg.com/htm/preact/standalone.modul…"
      ]
     },
     "execution_count": 3,
     "metadata": {},
     "output_type": "execute_result"
    }
   ],
   "source": [
    "d"
   ]
  },
  {
   "cell_type": "code",
   "execution_count": 4,
   "id": "f35e071a",
   "metadata": {},
   "outputs": [],
   "source": [
    "d.count = 5  # this DOES update the js WidgetModel... but it doesn't yet trigger a render"
   ]
  },
  {
   "cell_type": "code",
   "execution_count": 5,
   "id": "7e438421",
   "metadata": {},
   "outputs": [
    {
     "data": {
      "application/vnd.jupyter.widget-view+json": {
       "model_id": "dd48cfaeaded493f81a4da0de567f573",
       "version_major": 2,
       "version_minor": 1
      },
      "text/plain": [
       "Counter(esm='\\n        import { html, render as _render } from \\'https://unpkg.com/htm/preact/standalone.modul…"
      ]
     },
     "execution_count": 5,
     "metadata": {},
     "output_type": "execute_result"
    }
   ],
   "source": [
    "d"
   ]
  },
  {
   "cell_type": "code",
   "execution_count": null,
   "id": "7d67f073",
   "metadata": {},
   "outputs": [],
   "source": []
  }
 ],
 "metadata": {
  "kernelspec": {
   "display_name": "Python 3 (ipykernel)",
   "language": "python",
   "name": "python3"
  },
  "language_info": {
   "codemirror_mode": {
    "name": "ipython",
    "version": 3
   },
   "file_extension": ".py",
   "mimetype": "text/x-python",
   "name": "python",
   "nbconvert_exporter": "python",
   "pygments_lexer": "ipython3",
   "version": "3.10.8"
  }
 },
 "nbformat": 4,
 "nbformat_minor": 5
}
