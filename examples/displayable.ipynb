{
 "cells": [
  {
   "cell_type": "code",
   "execution_count": null,
   "id": "a3eee8a4-4efd-402e-b8c5-77ba5ead8071",
   "metadata": {
    "tags": []
   },
   "outputs": [],
   "source": [
    "%load_ext autoreload\n",
    "%autoreload 2"
   ]
  },
  {
   "cell_type": "code",
   "execution_count": null,
   "id": "cf2160ee",
   "metadata": {
    "tags": []
   },
   "outputs": [],
   "source": [
    "from anywidget._displayable import Displayable"
   ]
  },
  {
   "cell_type": "code",
   "execution_count": null,
   "id": "874de382",
   "metadata": {
    "tags": []
   },
   "outputs": [],
   "source": [
    "class Counter(Displayable):\n",
    "    esm = \"\"\"\n",
    "    export function render(view) {\n",
    "      let count = () => view.model.get(\"value\");\n",
    "      let btn = document.createElement(\"button\");\n",
    "      btn.innerHTML = `count is ${count()}`;\n",
    "      btn.addEventListener(\"click\", () => {\n",
    "        view.model.set(\"value\", count() + 1);\n",
    "        view.model.save_changes();\n",
    "      });\n",
    "      view.model.on(\"change:value\", () => {\n",
    "        btn.innerHTML = `count is ${count()}`;\n",
    "      });\n",
    "      view.model.on(\"change:value\", (...args) => {\n",
    "      \n",
    "          console.log(...args)\n",
    "      })\n",
    "      view.el.appendChild(btn);\n",
    "    }    \n",
    "    \"\"\"\n",
    "    value: int = 0\n",
    "\n",
    "\n",
    "d = Counter()"
   ]
  },
  {
   "cell_type": "code",
   "execution_count": null,
   "id": "7d444f95",
   "metadata": {
    "tags": []
   },
   "outputs": [],
   "source": [
    "d"
   ]
  },
  {
   "cell_type": "code",
   "execution_count": null,
   "id": "f35e071a",
   "metadata": {
    "tags": []
   },
   "outputs": [],
   "source": [
    "d.value = 5  # this DOES update the js WidgetModel... but it doesn't yet trigger a render"
   ]
  },
  {
   "cell_type": "code",
   "execution_count": null,
   "id": "7560fbed",
   "metadata": {
    "tags": []
   },
   "outputs": [],
   "source": [
    "d.value"
   ]
  },
  {
   "cell_type": "code",
   "execution_count": null,
   "id": "09c7c6ca",
   "metadata": {
    "tags": []
   },
   "outputs": [],
   "source": [
    "d"
   ]
  },
  {
   "cell_type": "code",
   "execution_count": null,
   "id": "5d6a689a-117e-4e79-ae9b-8082f1f31600",
   "metadata": {
    "tags": []
   },
   "outputs": [],
   "source": [
    "d.value = 10"
   ]
  },
  {
   "cell_type": "code",
   "execution_count": null,
   "id": "99ea5e32-c2a8-49e8-b3d9-f1151a7ff7a0",
   "metadata": {},
   "outputs": [],
   "source": []
  }
 ],
 "metadata": {
  "kernelspec": {
   "display_name": "Python 3 (ipykernel)",
   "language": "python",
   "name": "python3"
  },
  "language_info": {
   "codemirror_mode": {
    "name": "ipython",
    "version": 3
   },
   "file_extension": ".py",
   "mimetype": "text/x-python",
   "name": "python",
   "nbconvert_exporter": "python",
   "pygments_lexer": "ipython3",
   "version": "3.11.0"
  }
 },
 "nbformat": 4,
 "nbformat_minor": 5
}
