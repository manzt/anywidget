{
 "cells": [
  {
   "cell_type": "code",
   "execution_count": null,
   "id": "894fb97f-114d-451f-bce1-16ecb0f3e615",
   "metadata": {},
   "outputs": [],
   "source": [
    "!pip install anywidget"
   ]
  },
  {
   "cell_type": "code",
   "execution_count": null,
   "id": "fc81c081-5807-4711-9123-a7eaef21ec57",
   "metadata": {},
   "outputs": [],
   "source": [
    "import anywidget\n",
    "import traitlets\n",
    "\n",
    "ESM = \"\"\"\n",
    "import { html, render as _render } from 'https://unpkg.com/htm/preact/standalone.module.js';\n",
    "\n",
    "export function render(view) {\n",
    "    let ref = {};\n",
    "    function setCount(update) {\n",
    "        ref.current.innerText = update;\n",
    "        view.model.set(\"count\", update);\n",
    "        view.model.save_changes();\n",
    "    }\n",
    "    _render(\n",
    "        html`<div style=${{ display: \"grid\", gridAutoFlow: \"column\", textAlign: \"center\" }}>\n",
    "            <button onClick=${() => setCount(view.model.get(\"count\") - 1)}> - </button>\n",
    "            <p ref=${ref}>${view.model.get(\"count\")}</p>\n",
    "            <button onClick=${() => setCount(view.model.get(\"count\") + 1)}> + </button>\n",
    "        </div>`,\n",
    "        view.el,\n",
    "    );\n",
    "}\n",
    "\"\"\"\n",
    "\n",
    "class CounterWidget(anywidget.AnyWidget):\n",
    "    _esm = traitlets.Unicode(ESM).tag(sync=True)\n",
    "    count = traitlets.Int(0).tag(sync=True)"
   ]
  },
  {
   "cell_type": "code",
   "execution_count": null,
   "id": "d0019cca-e77f-46ed-9a59-364cd33a3217",
   "metadata": {},
   "outputs": [],
   "source": [
    "counter = CounterWidget()\n",
    "counter"
   ]
  },
  {
   "cell_type": "code",
   "execution_count": null,
   "id": "f95d5217-67e1-4080-a769-68ef5ef10ff1",
   "metadata": {},
   "outputs": [],
   "source": [
    "counter.count"
   ]
  }
 ],
 "metadata": {
  "kernelspec": {
   "display_name": "Python 3 (ipykernel)",
   "language": "python",
   "name": "python3"
  },
  "language_info": {
   "codemirror_mode": {
    "name": "ipython",
    "version": 3
   },
   "file_extension": ".py",
   "mimetype": "text/x-python",
   "name": "python",
   "nbconvert_exporter": "python",
   "pygments_lexer": "ipython3",
   "version": "3.11.0"
  }
 },
 "nbformat": 4,
 "nbformat_minor": 5
}
