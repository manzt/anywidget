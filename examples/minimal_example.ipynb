{
 "cells": [
  {
   "attachments": {},
   "cell_type": "markdown",
   "id": "60c89ab7",
   "metadata": {},
   "source": [
    "A minimal example on how to use **inline ESM** and how to load **ESM from a file**\n",
    "\n",
    "**Note:**  \n",
    "The widget will log the message \"Hello World\".  \n",
    "To see the output messages, you have to open the console.\n",
    "* in the web browser, that's usually the key F12.\n",
    "* in VS Code, open the command panel and type `> Open Webview Developer Tools`."
   ]
  },
  {
   "cell_type": "code",
   "execution_count": 1,
   "id": "556b40f4-e571-4d0a-b23e-f2617356dead",
   "metadata": {
    "tags": []
   },
   "outputs": [],
   "source": [
    "import pathlib\n",
    "import anywidget"
   ]
  },
  {
   "cell_type": "code",
   "execution_count": 2,
   "id": "62ad20de-0eeb-4b36-ba3d-fbb7272039bd",
   "metadata": {
    "tags": []
   },
   "outputs": [
    {
     "data": {
      "application/vnd.jupyter.widget-view+json": {
       "model_id": "f32696f4fead4510aa4bcab207240dff",
       "version_major": 2,
       "version_minor": 0
      },
      "text/plain": [
       "Widget1()"
      ]
     },
     "execution_count": 2,
     "metadata": {},
     "output_type": "execute_result"
    }
   ],
   "source": [
    "# +++ inline esm +++\n",
    "\n",
    "class Widget1(anywidget.AnyWidget):\n",
    "    _esm = \"\"\"\n",
    "    export function render(view) {\n",
    "        console.log(\"Hello World 1\")\n",
    "    }\n",
    "    \"\"\"\n",
    "\n",
    "Widget1()"
   ]
  },
  {
   "cell_type": "code",
   "execution_count": 3,
   "id": "28017701",
   "metadata": {},
   "outputs": [],
   "source": [
    "# +++ load esm from file +++\n",
    "\n",
    "# first we create the js file `index.js` and add code to it.\n",
    "path = pathlib.Path.cwd() / \"index.js\"\n",
    "if not path.exists():\n",
    "    path.write_text(\n",
    "        \"\"\"\n",
    "        export function render(view) {\n",
    "            console.log(\"Hello World 2\")\n",
    "        }\n",
    "        \"\"\"\n",
    "    )"
   ]
  },
  {
   "cell_type": "code",
   "execution_count": 4,
   "id": "be435663-62cd-4fd4-9fca-3f246443bbcd",
   "metadata": {},
   "outputs": [
    {
     "data": {
      "application/vnd.jupyter.widget-view+json": {
       "model_id": "3c3c6d6d9ba74c019038c963460472ff",
       "version_major": 2,
       "version_minor": 0
      },
      "text/plain": [
       "Widget2()"
      ]
     },
     "execution_count": 4,
     "metadata": {},
     "output_type": "execute_result"
    }
   ],
   "source": [
    "# and now in action!\n",
    "\n",
    "class Widget2(anywidget.AnyWidget):\n",
    "    _esm = pathlib.Path(\"index.js\")\n",
    "\n",
    "Widget2()"
   ]
  },
  {
   "cell_type": "code",
   "execution_count": null,
   "id": "6d87aaa3",
   "metadata": {},
   "outputs": [],
   "source": []
  }
 ],
 "metadata": {
  "kernelspec": {
   "display_name": "Python 3 (ipykernel)",
   "language": "python",
   "name": "python3"
  },
  "language_info": {
   "codemirror_mode": {
    "name": "ipython",
    "version": 3
   },
   "file_extension": ".py",
   "mimetype": "text/x-python",
   "name": "python",
   "nbconvert_exporter": "python",
   "pygments_lexer": "ipython3",
   "version": "3.9.15"
  }
 },
 "nbformat": 4,
 "nbformat_minor": 5
}
