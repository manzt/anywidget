{
 "cells": [
  {
   "attachments": {},
   "cell_type": "markdown",
   "id": "60c89ab7",
   "metadata": {},
   "source": [
    "A minimal example on how to use **inline ESM** and how to load **ESM from a file**\n",
    "\n",
    "**Note:**  \n",
    "The widget will log the message \"Hello World\".  \n",
    "To see the output messages, you have to open the console.\n",
    "* in the web browser, that's usually the key F12.\n",
    "* in VS Code, open the command panel and type `> Open Webview Developer Tools`."
   ]
  },
  {
   "cell_type": "code",
   "execution_count": 1,
   "id": "556b40f4-e571-4d0a-b23e-f2617356dead",
   "metadata": {
    "execution": {
     "iopub.execute_input": "2023-06-18T16:10:53.199357Z",
     "iopub.status.busy": "2023-06-18T16:10:53.199080Z",
     "iopub.status.idle": "2023-06-18T16:10:53.286613Z",
     "shell.execute_reply": "2023-06-18T16:10:53.285703Z"
    },
    "tags": []
   },
   "outputs": [],
   "source": [
    "import pathlib\n",
    "import anywidget"
   ]
  },
  {
   "cell_type": "code",
   "execution_count": 2,
   "id": "62ad20de-0eeb-4b36-ba3d-fbb7272039bd",
   "metadata": {
    "execution": {
     "iopub.execute_input": "2023-06-18T16:10:53.290549Z",
     "iopub.status.busy": "2023-06-18T16:10:53.290250Z",
     "iopub.status.idle": "2023-06-18T16:10:53.300927Z",
     "shell.execute_reply": "2023-06-18T16:10:53.300161Z"
    },
    "tags": []
   },
   "outputs": [
    {
     "data": {
      "application/vnd.jupyter.widget-view+json": {
       "model_id": "413115d603fd44ea963f8331b9947868",
       "version_major": 2,
       "version_minor": 0
      },
      "text/plain": [
       "Widget1()"
      ]
     },
     "execution_count": 2,
     "metadata": {},
     "output_type": "execute_result"
    }
   ],
   "source": [
    "# +++ inline esm +++\n",
    "\n",
    "\n",
    "class Widget1(anywidget.AnyWidget):\n",
    "    _esm = \"\"\"\n",
    "    export function render({ model , el }) {\n",
    "        console.log(\"Hello World 1\")\n",
    "    }\n",
    "    \"\"\"\n",
    "\n",
    "\n",
    "Widget1()"
   ]
  },
  {
   "cell_type": "code",
   "execution_count": 3,
   "id": "28017701",
   "metadata": {
    "execution": {
     "iopub.execute_input": "2023-06-18T16:10:53.306055Z",
     "iopub.status.busy": "2023-06-18T16:10:53.305778Z",
     "iopub.status.idle": "2023-06-18T16:10:53.309968Z",
     "shell.execute_reply": "2023-06-18T16:10:53.309357Z"
    }
   },
   "outputs": [],
   "source": [
    "# +++ load esm from file +++\n",
    "\n",
    "# first we create the js file `index.js` and add code to it.\n",
    "path = pathlib.Path.cwd() / \"index.js\"\n",
    "if not path.exists():\n",
    "    path.write_text(\n",
    "        \"\"\"\n",
    "        export function render({ model, el }) {\n",
    "            console.log(\"Hello World 2\")\n",
    "        }\n",
    "        \"\"\"\n",
    "    )"
   ]
  },
  {
   "cell_type": "code",
   "execution_count": 4,
   "id": "be435663-62cd-4fd4-9fca-3f246443bbcd",
   "metadata": {
    "execution": {
     "iopub.execute_input": "2023-06-18T16:10:53.313109Z",
     "iopub.status.busy": "2023-06-18T16:10:53.312861Z",
     "iopub.status.idle": "2023-06-18T16:10:53.378223Z",
     "shell.execute_reply": "2023-06-18T16:10:53.377540Z"
    }
   },
   "outputs": [
    {
     "data": {
      "application/vnd.jupyter.widget-view+json": {
       "model_id": "10c9ccbdaa7a4cc88eab8a0008527e19",
       "version_major": 2,
       "version_minor": 0
      },
      "text/plain": [
       "Widget2()"
      ]
     },
     "execution_count": 4,
     "metadata": {},
     "output_type": "execute_result"
    }
   ],
   "source": [
    "# and now in action!\n",
    "\n",
    "\n",
    "class Widget2(anywidget.AnyWidget):\n",
    "    _esm = pathlib.Path(\"index.js\")\n",
    "\n",
    "\n",
    "Widget2()"
   ]
  },
  {
   "cell_type": "code",
   "execution_count": null,
   "id": "6d87aaa3",
   "metadata": {},
   "outputs": [],
   "source": []
  }
 ],
 "metadata": {
  "kernelspec": {
   "display_name": "Python 3 (ipykernel)",
   "language": "python",
   "name": "python3"
  },
  "language_info": {
   "codemirror_mode": {
    "name": "ipython",
    "version": 3
   },
   "file_extension": ".py",
   "mimetype": "text/x-python",
   "name": "python",
   "nbconvert_exporter": "python",
   "pygments_lexer": "ipython3",
   "version": "3.11.3"
  },
  "widgets": {
   "application/vnd.jupyter.widget-state+json": {
    "state": {
     "10c9ccbdaa7a4cc88eab8a0008527e19": {
      "model_module": "anywidget",
      "model_module_version": "0.5.0",
      "model_name": "AnyModel",
      "state": {
       "_anywidget_id": "__main__.Widget2",
       "_dom_classes": [],
       "_esm": "\n        export function render({ model, el }) {\n            console.log(\"Hello World 2\")\n        }\n        ",
       "_model_module": "anywidget",
       "_model_module_version": "0.5.0",
       "_model_name": "AnyModel",
       "_view_count": null,
       "_view_module": "anywidget",
       "_view_module_version": "0.5.0",
       "_view_name": "AnyView",
       "layout": "IPY_MODEL_5b5626f87c4a42d4bad9824eab513324",
       "tabbable": null,
       "tooltip": null
      }
     },
     "413115d603fd44ea963f8331b9947868": {
      "model_module": "anywidget",
      "model_module_version": "0.5.0",
      "model_name": "AnyModel",
      "state": {
       "_anywidget_id": "__main__.Widget1",
       "_dom_classes": [],
       "_esm": "\n    export function render({ model , el }) {\n        console.log(\"Hello World 1\")\n    }\n    ",
       "_model_module": "anywidget",
       "_model_module_version": "0.5.0",
       "_model_name": "AnyModel",
       "_view_count": null,
       "_view_module": "anywidget",
       "_view_module_version": "0.5.0",
       "_view_name": "AnyView",
       "layout": "IPY_MODEL_f3c295b292374b85921116ab7e8fa96a",
       "tabbable": null,
       "tooltip": null
      }
     },
     "5b5626f87c4a42d4bad9824eab513324": {
      "model_module": "@jupyter-widgets/base",
      "model_module_version": "2.0.0",
      "model_name": "LayoutModel",
      "state": {
       "_model_module": "@jupyter-widgets/base",
       "_model_module_version": "2.0.0",
       "_model_name": "LayoutModel",
       "_view_count": null,
       "_view_module": "@jupyter-widgets/base",
       "_view_module_version": "2.0.0",
       "_view_name": "LayoutView",
       "align_content": null,
       "align_items": null,
       "align_self": null,
       "border_bottom": null,
       "border_left": null,
       "border_right": null,
       "border_top": null,
       "bottom": null,
       "display": null,
       "flex": null,
       "flex_flow": null,
       "grid_area": null,
       "grid_auto_columns": null,
       "grid_auto_flow": null,
       "grid_auto_rows": null,
       "grid_column": null,
       "grid_gap": null,
       "grid_row": null,
       "grid_template_areas": null,
       "grid_template_columns": null,
       "grid_template_rows": null,
       "height": null,
       "justify_content": null,
       "justify_items": null,
       "left": null,
       "margin": null,
       "max_height": null,
       "max_width": null,
       "min_height": null,
       "min_width": null,
       "object_fit": null,
       "object_position": null,
       "order": null,
       "overflow": null,
       "padding": null,
       "right": null,
       "top": null,
       "visibility": null,
       "width": null
      }
     },
     "f3c295b292374b85921116ab7e8fa96a": {
      "model_module": "@jupyter-widgets/base",
      "model_module_version": "2.0.0",
      "model_name": "LayoutModel",
      "state": {
       "_model_module": "@jupyter-widgets/base",
       "_model_module_version": "2.0.0",
       "_model_name": "LayoutModel",
       "_view_count": null,
       "_view_module": "@jupyter-widgets/base",
       "_view_module_version": "2.0.0",
       "_view_name": "LayoutView",
       "align_content": null,
       "align_items": null,
       "align_self": null,
       "border_bottom": null,
       "border_left": null,
       "border_right": null,
       "border_top": null,
       "bottom": null,
       "display": null,
       "flex": null,
       "flex_flow": null,
       "grid_area": null,
       "grid_auto_columns": null,
       "grid_auto_flow": null,
       "grid_auto_rows": null,
       "grid_column": null,
       "grid_gap": null,
       "grid_row": null,
       "grid_template_areas": null,
       "grid_template_columns": null,
       "grid_template_rows": null,
       "height": null,
       "justify_content": null,
       "justify_items": null,
       "left": null,
       "margin": null,
       "max_height": null,
       "max_width": null,
       "min_height": null,
       "min_width": null,
       "object_fit": null,
       "object_position": null,
       "order": null,
       "overflow": null,
       "padding": null,
       "right": null,
       "top": null,
       "visibility": null,
       "width": null
      }
     }
    },
    "version_major": 2,
    "version_minor": 0
   }
  }
 },
 "nbformat": 4,
 "nbformat_minor": 5
}
