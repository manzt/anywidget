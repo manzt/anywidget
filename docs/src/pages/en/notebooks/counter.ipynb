{
 "cells": [
  {
   "cell_type": "raw",
   "id": "2820e80e-e899-4ee9-a1a8-3ebc8b411a64",
   "metadata": {},
   "source": [
    "---\n",
    "title: Build a Counter Widget\n",
    "description: Jupyter notebook with example\n",
    "layout: ../../../layouts/MainLayout.astro\n",
    "---"
   ]
  },
  {
   "cell_type": "markdown",
   "id": "f1dea029-1b70-45d3-adf8-9fb0f54b4c19",
   "metadata": {},
   "source": [
    "[![Open In Colab](https://colab.research.google.com/assets/colab-badge.svg)](https://colab.research.google.com/github/manzt/anywidget/blob/main/docs/src/pages/en/notebooks/counter.ipynb)"
   ]
  },
  {
   "cell_type": "code",
   "execution_count": null,
   "id": "acd90b08-718e-427e-b81b-cc67445fdd8b",
   "metadata": {},
   "outputs": [],
   "source": [
    "!pip install --quiet anywidget"
   ]
  },
  {
   "cell_type": "markdown",
   "id": "3fe44656-8b68-47ed-9205-0991ce83c649",
   "metadata": {},
   "source": [
    "This example demonstrates how to synchronize model state between the widget frontend and Python kernel with **anywidget**. \n",
    "\n",
    "The `render` function creates a `<button>` element and registers an event handler to increment the model `value` when the button is clicked. A second event handler is registered to update the text output each time `value` changes on the model."
   ]
  },
  {
   "cell_type": "code",
   "execution_count": 1,
   "id": "c47b8145",
   "metadata": {
    "tags": []
   },
   "outputs": [
    {
     "data": {
      "application/vnd.jupyter.widget-view+json": {
       "model_id": "17e8331308444e2ba2d54bb0a24edbbb",
       "version_major": 2,
       "version_minor": 1
      },
      "text/plain": [
       "CounterWidget(value=60)"
      ]
     },
     "execution_count": 1,
     "metadata": {},
     "output_type": "execute_result"
    }
   ],
   "source": [
    "import anywidget\n",
    "import traitlets\n",
    "\n",
    "\n",
    "class CounterWidget(anywidget.AnyWidget):\n",
    "    _esm = \"\"\"\n",
    "    function render({ model, el }) {\n",
    "      let count = () => model.get(\"value\");\n",
    "      let btn = document.createElement(\"button\");\n",
    "      btn.classList.add(\"counter-button\");\n",
    "      btn.innerHTML = `count is ${count()}`;\n",
    "      btn.addEventListener(\"click\", () => {\n",
    "        model.set(\"value\", count() + 1);\n",
    "        model.save_changes();\n",
    "      });\n",
    "      model.on(\"change:value\", () => {\n",
    "        btn.innerHTML = `count is ${count()}`;\n",
    "      });\n",
    "      el.appendChild(btn);\n",
    "    }\n",
    "    export default { render };\n",
    "    \"\"\"\n",
    "    _css = \"\"\"\n",
    "    .counter-button {\n",
    "      background-image: linear-gradient(to right, #a1c4fd, #c2e9fb);\n",
    "      border: 0;\n",
    "      border-radius: 10px;\n",
    "      padding: 10px 50px;\n",
    "      color: white;\n",
    "    }\n",
    "    \"\"\"\n",
    "    value = traitlets.Int(0).tag(sync=True)\n",
    "\n",
    "\n",
    "w = CounterWidget()\n",
    "w.value = 60\n",
    "\n",
    "w"
   ]
  },
  {
   "cell_type": "markdown",
   "id": "ce24e8f9-d817-4e6f-b7f8-b070c1535dab",
   "metadata": {},
   "source": [
    "By treating the model as the source of truth, whether Python kernel or JavaScript update value, the count displayed is correct. Additionally, a single model serves as the source of truth for all _views_ of that model. Therefore when `w` is displayed in another cell, the view is synchronized with the the output cell above."
   ]
  },
  {
   "cell_type": "code",
   "execution_count": 2,
   "id": "1b0f1a15",
   "metadata": {},
   "outputs": [
    {
     "data": {
      "application/vnd.jupyter.widget-view+json": {
       "model_id": "17e8331308444e2ba2d54bb0a24edbbb",
       "version_major": 2,
       "version_minor": 1
      },
      "text/plain": [
       "CounterWidget(value=60)"
      ]
     },
     "execution_count": 2,
     "metadata": {},
     "output_type": "execute_result"
    }
   ],
   "source": [
    "w"
   ]
  },
  {
   "cell_type": "markdown",
   "id": "b4422f49-47df-4842-9039-662f7829bf2d",
   "metadata": {},
   "source": [
    "But the state of a new widget instance is independent,"
   ]
  },
  {
   "cell_type": "code",
   "execution_count": 3,
   "id": "6e489ed7-f08e-4d19-9e94-e6f213449b0d",
   "metadata": {},
   "outputs": [
    {
     "data": {
      "application/vnd.jupyter.widget-view+json": {
       "model_id": "fb274b7359df4c679c4c7631b1312c8e",
       "version_major": 2,
       "version_minor": 1
      },
      "text/plain": [
       "CounterWidget()"
      ]
     },
     "execution_count": 3,
     "metadata": {},
     "output_type": "execute_result"
    }
   ],
   "source": [
    "CounterWidget()"
   ]
  },
  {
   "cell_type": "code",
   "execution_count": null,
   "id": "159fb2a7-3026-487a-aaed-85c8a6b8a6d0",
   "metadata": {},
   "outputs": [],
   "source": []
  }
 ],
 "metadata": {
  "kernelspec": {
   "display_name": "Python 3 (ipykernel)",
   "language": "python",
   "name": "python3"
  },
  "language_info": {
   "codemirror_mode": {
    "name": "ipython",
    "version": 3
   },
   "file_extension": ".py",
   "mimetype": "text/x-python",
   "name": "python",
   "nbconvert_exporter": "python",
   "pygments_lexer": "ipython3",
   "version": "3.12.3"
  },
  "widgets": {
   "application/vnd.jupyter.widget-state+json": {
    "state": {
     "17e8331308444e2ba2d54bb0a24edbbb": {
      "model_module": "anywidget",
      "model_module_version": "~0.9.*",
      "model_name": "AnyModel",
      "state": {
       "_anywidget_id": "__main__.CounterWidget",
       "_css": "\n    .counter-button {\n      background-image: linear-gradient(to right, #a1c4fd, #c2e9fb);\n      border: 0;\n      border-radius: 10px;\n      padding: 10px 50px;\n      color: white;\n    }\n    ",
       "_esm": "\n    function render({ model, el }) {\n      let count = () => model.get(\"value\");\n      let btn = document.createElement(\"button\");\n      btn.classList.add(\"counter-button\");\n      btn.innerHTML = `count is ${count()}`;\n      btn.addEventListener(\"click\", () => {\n        model.set(\"value\", count() + 1);\n        model.save_changes();\n      });\n      model.on(\"change:value\", () => {\n        btn.innerHTML = `count is ${count()}`;\n      });\n      el.appendChild(btn);\n    }\n    export default { render };\n    ",
       "_model_module": "anywidget",
       "_model_module_version": "~0.9.*",
       "_model_name": "AnyModel",
       "_view_module": "anywidget",
       "_view_module_version": "~0.9.*",
       "_view_name": "AnyView",
       "layout": "IPY_MODEL_27d1c72c0d674963b7923480b9ca40cf",
       "value": 60
      }
     },
     "27d1c72c0d674963b7923480b9ca40cf": {
      "model_module": "@jupyter-widgets/base",
      "model_module_version": "2.0.0",
      "model_name": "LayoutModel",
      "state": {}
     },
     "d6ec4bd8f6bb42cb8c5946ed97987932": {
      "model_module": "@jupyter-widgets/base",
      "model_module_version": "2.0.0",
      "model_name": "LayoutModel",
      "state": {}
     },
     "fb274b7359df4c679c4c7631b1312c8e": {
      "model_module": "anywidget",
      "model_module_version": "~0.9.*",
      "model_name": "AnyModel",
      "state": {
       "_anywidget_id": "__main__.CounterWidget",
       "_css": "\n    .counter-button {\n      background-image: linear-gradient(to right, #a1c4fd, #c2e9fb);\n      border: 0;\n      border-radius: 10px;\n      padding: 10px 50px;\n      color: white;\n    }\n    ",
       "_esm": "\n    function render({ model, el }) {\n      let count = () => model.get(\"value\");\n      let btn = document.createElement(\"button\");\n      btn.classList.add(\"counter-button\");\n      btn.innerHTML = `count is ${count()}`;\n      btn.addEventListener(\"click\", () => {\n        model.set(\"value\", count() + 1);\n        model.save_changes();\n      });\n      model.on(\"change:value\", () => {\n        btn.innerHTML = `count is ${count()}`;\n      });\n      el.appendChild(btn);\n    }\n    export default { render };\n    ",
       "_model_module": "anywidget",
       "_model_module_version": "~0.9.*",
       "_model_name": "AnyModel",
       "_view_module": "anywidget",
       "_view_module_version": "~0.9.*",
       "_view_name": "AnyView",
       "layout": "IPY_MODEL_d6ec4bd8f6bb42cb8c5946ed97987932",
       "value": 0
      }
     }
    },
    "version_major": 2,
    "version_minor": 0
   }
  }
 },
 "nbformat": 4,
 "nbformat_minor": 5
}
