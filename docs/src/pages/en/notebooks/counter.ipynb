{
 "cells": [
  {
   "cell_type": "raw",
   "id": "2820e80e-e899-4ee9-a1a8-3ebc8b411a64",
   "metadata": {},
   "source": [
    "---\n",
    "title: Build a Counter Widget\n",
    "description: Jupyter notebook with example\n",
    "layout: ../../../layouts/MainLayout.astro\n",
    "---"
   ]
  },
  {
   "cell_type": "code",
   "execution_count": 1,
   "id": "c47b8145",
   "metadata": {},
   "outputs": [
    {
     "data": {
      "application/vnd.jupyter.widget-view+json": {
       "model_id": "0e51c488a8434061a5134c02db94a29d",
       "version_major": 2,
       "version_minor": 0
      },
      "text/plain": [
       "CounterWidget(count=60)"
      ]
     },
     "execution_count": 1,
     "metadata": {},
     "output_type": "execute_result"
    }
   ],
   "source": [
    "import anywidget\n",
    "import traitlets\n",
    "\n",
    "CSS = \"\"\"\n",
    ".counter-btn {\n",
    "  background-image: linear-gradient(to right, #a1c4fd, #c2e9fb);\n",
    "  border: 0;\n",
    "  border-radius: 10px;\n",
    "  padding: 10px 50px;\n",
    "  color: white;\n",
    "}\n",
    "\"\"\"\n",
    "\n",
    "ESM = \"\"\"\n",
    "export function render(view) {\n",
    "  let counter = Object.assign(document.createElement(\"button\"), {\n",
    "    className: \"counter-btn\",\n",
    "    innerHTML: `count is ${view.model.get(\"count\")}`,\n",
    "    onclick: () => {\n",
    "      view.model.set(\"count\", view.model.get(\"count\") + 1);\n",
    "      view.model.save_changes();\n",
    "    },\n",
    "  });\n",
    "  view.model.on(\"change:count\", () => {\n",
    "    counter.innerHTML = `count is ${view.model.get(\"count\")}`;\n",
    "  });\n",
    "  view.el.appendChild(counter);\n",
    "}\n",
    "\"\"\"\n",
    "\n",
    "class CounterWidget(anywidget.AnyWidget):\n",
    "    _esm = ESM\n",
    "    _css = CSS\n",
    "    count = traitlets.Int(0).tag(sync=True)\n",
    "\n",
    "w = CounterWidget()\n",
    "w.count = 60\n",
    "\n",
    "w"
   ]
  },
  {
   "cell_type": "code",
   "execution_count": 2,
   "id": "1b0f1a15",
   "metadata": {},
   "outputs": [
    {
     "data": {
      "application/vnd.jupyter.widget-view+json": {
       "model_id": "0e51c488a8434061a5134c02db94a29d",
       "version_major": 2,
       "version_minor": 0
      },
      "text/plain": [
       "CounterWidget(count=60)"
      ]
     },
     "execution_count": 2,
     "metadata": {},
     "output_type": "execute_result"
    }
   ],
   "source": [
    "w"
   ]
  }
 ],
 "metadata": {
  "kernelspec": {
   "display_name": "Python 3 (ipykernel)",
   "language": "python",
   "name": "python3"
  },
  "language_info": {
   "codemirror_mode": {
    "name": "ipython",
    "version": 3
   },
   "file_extension": ".py",
   "mimetype": "text/x-python",
   "name": "python",
   "nbconvert_exporter": "python",
   "pygments_lexer": "ipython3",
   "version": "3.11.0"
  },
  "widgets": {
   "application/vnd.jupyter.widget-state+json": {
    "state": {
     "0e51c488a8434061a5134c02db94a29d": {
      "model_module": "anywidget",
      "model_module_version": "0.0.4",
      "model_name": "AnyModel",
      "state": {
       "_anywidget_id": "__main__.CounterWidget",
       "_css": "\n.counter-btn {\n  background-image: linear-gradient(to right, #a1c4fd, #c2e9fb);\n  border: 0;\n  border-radius: 10px;\n  padding: 10px 50px;\n  color: white;\n}\n",
       "_esm": "\nexport function render(view) {\n  let counter = Object.assign(document.createElement(\"button\"), {\n    className: \"counter-btn\",\n    innerHTML: `count is ${view.model.get(\"count\")}`,\n    onclick: () => {\n      view.model.set(\"count\", view.model.get(\"count\") + 1);\n      view.model.save_changes();\n    },\n  });\n  view.model.on(\"change:count\", () => {\n    counter.innerHTML = `count is ${view.model.get(\"count\")}`;\n  });\n  view.el.appendChild(counter);\n}\n",
       "_model_module": "anywidget",
       "_model_module_version": "0.0.4",
       "_model_name": "AnyModel",
       "_view_module": "anywidget",
       "_view_module_version": "0.0.4",
       "_view_name": "AnyView",
       "count": 60,
       "layout": "IPY_MODEL_367010e127534919bbc89a3e82ee0bd0"
      }
     },
     "367010e127534919bbc89a3e82ee0bd0": {
      "model_module": "@jupyter-widgets/base",
      "model_module_version": "2.0.0",
      "model_name": "LayoutModel",
      "state": {}
     }
    },
    "version_major": 2,
    "version_minor": 0
   }
  }
 },
 "nbformat": 4,
 "nbformat_minor": 5
}
