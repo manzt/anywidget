{
 "cells": [
  {
   "cell_type": "raw",
   "id": "2820e80e-e899-4ee9-a1a8-3ebc8b411a64",
   "metadata": {},
   "source": [
    "---\n",
    "title: Example ipynb\n",
    "description: Something something something\n",
    "layout: ../../layouts/MainLayout.astro\n",
    "---"
   ]
  },
  {
   "cell_type": "code",
   "execution_count": 1,
   "id": "50d8b8b8-a49e-401b-a6bd-c9b56eb8810b",
   "metadata": {},
   "outputs": [
    {
     "data": {
      "application/vnd.jupyter.widget-view+json": {
       "model_id": "7b35e127ac854f5b81cc2ae7e9f99fee",
       "version_major": 2,
       "version_minor": 0
      },
      "text/plain": [
       "CounterWidget()"
      ]
     },
     "execution_count": 1,
     "metadata": {},
     "output_type": "execute_result"
    }
   ],
   "source": [
    "import anywidget\n",
    "import traitlets\n",
    "\n",
    "CSS = \"\"\"\n",
    ".counter-btn {\n",
    "  background-image: linear-gradient(to right, #a1c4fd, #c2e9fb);\n",
    "  border: 0;\n",
    "  border-radius: 10px;\n",
    "  padding: 10px 50px;\n",
    "}\n",
    "\"\"\"\n",
    "\n",
    "ESM = \"\"\"\n",
    "export function render(view) {\n",
    "  let counter = Object.assign(document.createElement(\"button\"), {\n",
    "    className: \"counter-btn\",\n",
    "    innerHTML: `count is ${view.model.get(\"count\")}`,\n",
    "    onclick: () => {\n",
    "      view.model.set(\"count\", view.model.get(\"count\") + 1);\n",
    "      view.model.save_changes();\n",
    "    },\n",
    "  });\n",
    "  view.model.on(\"change:count\", () => {\n",
    "    counter.innerHTML = `count is ${view.model.get(\"count\")}`;\n",
    "  });\n",
    "  view.el.appendChild(counter);\n",
    "}\n",
    "\"\"\"\n",
    "\n",
    "class CounterWidget(anywidget.AnyWidget):\n",
    "    _esm = ESM # required, must export `render`\n",
    "    _css = CSS # optional\n",
    "    count = traitlets.Int(0).tag(sync=True)\n",
    "\n",
    "CounterWidget()"
   ]
  },
  {
   "cell_type": "code",
   "execution_count": 2,
   "id": "caa158b4-0d91-4d85-9a90-65d4ce5a3e4d",
   "metadata": {},
   "outputs": [
    {
     "data": {
      "text/plain": [
       "'0.0.5'"
      ]
     },
     "execution_count": 2,
     "metadata": {},
     "output_type": "execute_result"
    }
   ],
   "source": [
    "anywidget.__version__"
   ]
  },
  {
   "cell_type": "code",
   "execution_count": null,
   "id": "ebe66c58-5d49-4654-ba9a-28197a1eb4c7",
   "metadata": {},
   "outputs": [],
   "source": []
  }
 ],
 "metadata": {
  "kernelspec": {
   "display_name": "Python 3 (ipykernel)",
   "language": "python",
   "name": "python3"
  },
  "language_info": {
   "codemirror_mode": {
    "name": "ipython",
    "version": 3
   },
   "file_extension": ".py",
   "mimetype": "text/x-python",
   "name": "python",
   "nbconvert_exporter": "python",
   "pygments_lexer": "ipython3",
   "version": "3.11.0"
  }
 },
 "nbformat": 4,
 "nbformat_minor": 5
}
