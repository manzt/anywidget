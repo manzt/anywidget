{
 "cells": [
  {
   "cell_type": "raw",
   "id": "2820e80e-e899-4ee9-a1a8-3ebc8b411a64",
   "metadata": {},
   "source": [
    "---\n",
    "title: Example ipynb\n",
    "description: Something something something\n",
    "layout: ../../layouts/MainLayout.astro\n",
    "---"
   ]
  },
  {
   "cell_type": "code",
   "execution_count": 1,
   "id": "50d8b8b8-a49e-401b-a6bd-c9b56eb8810b",
   "metadata": {},
   "outputs": [
    {
     "data": {
      "application/vnd.jupyter.widget-view+json": {
       "model_id": "f6f1bca0c6944f97a3df4ef9d2373acd",
       "version_major": 2,
       "version_minor": 0
      },
      "text/plain": [
       "CounterWidget()"
      ]
     },
     "execution_count": 1,
     "metadata": {},
     "output_type": "execute_result"
    }
   ],
   "source": [
    "import anywidget\n",
    "import traitlets\n",
    "\n",
    "CSS = \"\"\"\n",
    ".counter-btn {\n",
    "  background-image: linear-gradient(to right, #a1c4fd, #c2e9fb);\n",
    "  border: 0;\n",
    "  border-radius: 10px;\n",
    "  padding: 10px 50px;\n",
    "  color: black;\n",
    "}\n",
    "\"\"\"\n",
    "\n",
    "ESM = \"\"\"\n",
    "export function render(view) {\n",
    "  let counter = Object.assign(document.createElement(\"button\"), {\n",
    "    className: \"counter-btn\",\n",
    "    innerHTML: `count is ${view.model.get(\"count\")}`,\n",
    "    onclick: () => {\n",
    "      view.model.set(\"count\", view.model.get(\"count\") + 1);\n",
    "      view.model.save_changes();\n",
    "    },\n",
    "  });\n",
    "  view.model.on(\"change:count\", () => {\n",
    "    counter.innerHTML = `count is ${view.model.get(\"count\")}`;\n",
    "  });\n",
    "  view.el.appendChild(counter);\n",
    "}\n",
    "\"\"\"\n",
    "\n",
    "class CounterWidget(anywidget.AnyWidget):\n",
    "    _esm = ESM # required, must export `render`\n",
    "    _css = CSS # optional\n",
    "    count = traitlets.Int(0).tag(sync=True)\n",
    "\n",
    "w = CounterWidget()\n",
    "w"
   ]
  },
  {
   "cell_type": "code",
   "execution_count": 2,
   "id": "caa158b4-0d91-4d85-9a90-65d4ce5a3e4d",
   "metadata": {},
   "outputs": [
    {
     "data": {
      "text/plain": [
       "'0.0.4'"
      ]
     },
     "execution_count": 2,
     "metadata": {},
     "output_type": "execute_result"
    }
   ],
   "source": [
    "anywidget.__version__"
   ]
  },
  {
   "cell_type": "code",
   "execution_count": 3,
   "id": "ebe66c58-5d49-4654-ba9a-28197a1eb4c7",
   "metadata": {},
   "outputs": [
    {
     "data": {
      "application/vnd.jupyter.widget-view+json": {
       "model_id": "f6f1bca0c6944f97a3df4ef9d2373acd",
       "version_major": 2,
       "version_minor": 0
      },
      "text/plain": [
       "CounterWidget()"
      ]
     },
     "execution_count": 3,
     "metadata": {},
     "output_type": "execute_result"
    }
   ],
   "source": [
    "w"
   ]
  },
  {
   "cell_type": "code",
   "execution_count": 4,
   "id": "15993a94",
   "metadata": {},
   "outputs": [
    {
     "data": {
      "application/vnd.jupyter.widget-view+json": {
       "model_id": "f563c986db1f4c45b5d3a197462d9f2e",
       "version_major": 2,
       "version_minor": 0
      },
      "text/plain": [
       "CounterWidget()"
      ]
     },
     "execution_count": 4,
     "metadata": {},
     "output_type": "execute_result"
    }
   ],
   "source": [
    "CounterWidget()"
   ]
  },
  {
   "cell_type": "code",
   "execution_count": null,
   "id": "35c74d4a",
   "metadata": {},
   "outputs": [],
   "source": []
  },
  {
   "cell_type": "code",
   "execution_count": null,
   "id": "06e92f22",
   "metadata": {},
   "outputs": [],
   "source": []
  }
 ],
 "metadata": {
  "kernelspec": {
   "display_name": "Python 3 (ipykernel)",
   "language": "python",
   "name": "python3"
  },
  "language_info": {
   "codemirror_mode": {
    "name": "ipython",
    "version": 3
   },
   "file_extension": ".py",
   "mimetype": "text/x-python",
   "name": "python",
   "nbconvert_exporter": "python",
   "pygments_lexer": "ipython3",
   "version": "3.11.0"
  },
  "widgets": {
   "application/vnd.jupyter.widget-state+json": {
    "state": {
     "04ede5c7c6794637b504bee29fd9246b": {
      "model_module": "anywidget",
      "model_module_version": "0.0.4",
      "model_name": "AnyModel",
      "state": {
       "_anywidget_id": "__main__.CounterWidget",
       "_css": "\n.counter-btn {\n  background-image: linear-gradient(to right, #a1c4fd, #c2e9fb);\n  border: 0;\n  border-radius: 10px;\n  padding: 10px 50px;\n}\n",
       "_esm": "\nexport function render(view) {\n  let counter = Object.assign(document.createElement(\"button\"), {\n    className: \"counter-btn\",\n    innerHTML: `count is ${view.model.get(\"count\")}`,\n    onclick: () => {\n      view.model.set(\"count\", view.model.get(\"count\") + 1);\n      view.model.save_changes();\n    },\n  });\n  view.model.on(\"change:count\", () => {\n    counter.innerHTML = `count is ${view.model.get(\"count\")}`;\n  });\n  view.el.appendChild(counter);\n}\n",
       "_model_module": "anywidget",
       "_model_module_version": "0.0.4",
       "_model_name": "AnyModel",
       "_view_module": "anywidget",
       "_view_module_version": "0.0.4",
       "_view_name": "AnyView",
       "count": 0,
       "layout": "IPY_MODEL_6e5b458fc4ee4933abf08241f2d771b8"
      }
     },
     "0545b9f2eb414c10ad3f88de3cb857b3": {
      "model_module": "@jupyter-widgets/base",
      "model_module_version": "2.0.0",
      "model_name": "LayoutModel",
      "state": {}
     },
     "0ea4eaf9e1c84df884f0ff01a26a3050": {
      "model_module": "anywidget",
      "model_module_version": "0.0.4",
      "model_name": "AnyModel",
      "state": {
       "_anywidget_id": "__main__.CounterWidget",
       "_css": "\n.counter-btn {\n  background-image: linear-gradient(to right, #a1c4fd, #c2e9fb);\n  border: 0;\n  border-radius: 10px;\n  padding: 10px 50px;\n}\n",
       "_esm": "\nexport function render(view) {\n  let counter = Object.assign(document.createElement(\"button\"), {\n    className: \"counter-btn\",\n    innerHTML: `count is ${view.model.get(\"count\")}`,\n    onclick: () => {\n      view.model.set(\"count\", view.model.get(\"count\") + 1);\n      view.model.save_changes();\n    },\n  });\n  view.model.on(\"change:count\", () => {\n    counter.innerHTML = `count is ${view.model.get(\"count\")}`;\n  });\n  view.el.appendChild(counter);\n}\n",
       "_model_module": "anywidget",
       "_model_module_version": "0.0.4",
       "_model_name": "AnyModel",
       "_view_module": "anywidget",
       "_view_module_version": "0.0.4",
       "_view_name": "AnyView",
       "count": 4,
       "layout": "IPY_MODEL_f3e26fafbe044f05b9811530818ee515"
      }
     },
     "32b7cf196cf44ca5a83947ccafa40311": {
      "model_module": "anywidget",
      "model_module_version": "0.0.4",
      "model_name": "AnyModel",
      "state": {
       "_anywidget_id": "__main__.CounterWidget",
       "_css": "\n.counter-btn {\n  background-image: linear-gradient(to right, #a1c4fd, #c2e9fb);\n  border: 0;\n  border-radius: 10px;\n  padding: 10px 50px;\n}\n",
       "_esm": "\nexport function render(view) {\n  let counter = Object.assign(document.createElement(\"button\"), {\n    className: \"counter-btn\",\n    innerHTML: `count is ${view.model.get(\"count\")}`,\n    onclick: () => {\n      view.model.set(\"count\", view.model.get(\"count\") + 1);\n      view.model.save_changes();\n    },\n  });\n  view.model.on(\"change:count\", () => {\n    counter.innerHTML = `count is ${view.model.get(\"count\")}`;\n  });\n  view.el.appendChild(counter);\n}\n",
       "_model_module": "anywidget",
       "_model_module_version": "0.0.4",
       "_model_name": "AnyModel",
       "_view_module": "anywidget",
       "_view_module_version": "0.0.4",
       "_view_name": "AnyView",
       "count": 0,
       "layout": "IPY_MODEL_4ed77c441a934d78981f6a221d05b8c8"
      }
     },
     "456781a269754c1bb7773fe8734fb3c2": {
      "model_module": "@jupyter-widgets/base",
      "model_module_version": "2.0.0",
      "model_name": "LayoutModel",
      "state": {}
     },
     "4b32e77b56b241e197246ac39c9008de": {
      "model_module": "@jupyter-widgets/base",
      "model_module_version": "2.0.0",
      "model_name": "LayoutModel",
      "state": {}
     },
     "4c5a889e55394b1e8933662861a7434e": {
      "model_module": "@jupyter-widgets/base",
      "model_module_version": "2.0.0",
      "model_name": "LayoutModel",
      "state": {}
     },
     "4ed77c441a934d78981f6a221d05b8c8": {
      "model_module": "@jupyter-widgets/base",
      "model_module_version": "2.0.0",
      "model_name": "LayoutModel",
      "state": {}
     },
     "4ef72c0a9e9845dcadb99955961131d2": {
      "model_module": "@jupyter-widgets/base",
      "model_module_version": "2.0.0",
      "model_name": "LayoutModel",
      "state": {}
     },
     "6e5b458fc4ee4933abf08241f2d771b8": {
      "model_module": "@jupyter-widgets/base",
      "model_module_version": "2.0.0",
      "model_name": "LayoutModel",
      "state": {}
     },
     "89596f00bc7c43d1aba5c408013957e7": {
      "model_module": "anywidget",
      "model_module_version": "0.0.4",
      "model_name": "AnyModel",
      "state": {
       "_anywidget_id": "__main__.CounterWidget",
       "_css": "\n.counter-btn {\n  background-image: linear-gradient(to right, #a1c4fd, #c2e9fb);\n  border: 0;\n  border-radius: 10px;\n  padding: 10px 50px;\n}\n",
       "_esm": "\nexport function render(view) {\n  let counter = Object.assign(document.createElement(\"button\"), {\n    className: \"counter-btn\",\n    innerHTML: `count is ${view.model.get(\"count\")}`,\n    onclick: () => {\n      view.model.set(\"count\", view.model.get(\"count\") + 1);\n      view.model.save_changes();\n    },\n  });\n  view.model.on(\"change:count\", () => {\n    counter.innerHTML = `count is ${view.model.get(\"count\")}`;\n  });\n  view.el.appendChild(counter);\n}\n",
       "_model_module": "anywidget",
       "_model_module_version": "0.0.4",
       "_model_name": "AnyModel",
       "_view_module": "anywidget",
       "_view_module_version": "0.0.4",
       "_view_name": "AnyView",
       "count": 0,
       "layout": "IPY_MODEL_4c5a889e55394b1e8933662861a7434e"
      }
     },
     "99f3c164ee9c4b6092f3d52c3915d186": {
      "model_module": "@jupyter-widgets/base",
      "model_module_version": "2.0.0",
      "model_name": "LayoutModel",
      "state": {}
     },
     "a28826c87ec447b2a6eda66323e2d8a9": {
      "model_module": "anywidget",
      "model_module_version": "0.0.4",
      "model_name": "AnyModel",
      "state": {
       "_anywidget_id": "__main__.CounterWidget",
       "_css": "\n.counter-btn {\n  background-image: linear-gradient(to right, #a1c4fd, #c2e9fb);\n  border: 0;\n  border-radius: 10px;\n  padding: 10px 50px;\n  color: black;\n}\n",
       "_esm": "\nexport function render(view) {\n  let counter = Object.assign(document.createElement(\"button\"), {\n    className: \"counter-btn\",\n    innerHTML: `count is ${view.model.get(\"count\")}`,\n    onclick: () => {\n      view.model.set(\"count\", view.model.get(\"count\") + 1);\n      view.model.save_changes();\n    },\n  });\n  view.model.on(\"change:count\", () => {\n    counter.innerHTML = `count is ${view.model.get(\"count\")}`;\n  });\n  view.el.appendChild(counter);\n}\n",
       "_model_module": "anywidget",
       "_model_module_version": "0.0.4",
       "_model_name": "AnyModel",
       "_view_module": "anywidget",
       "_view_module_version": "0.0.4",
       "_view_name": "AnyView",
       "count": 0,
       "layout": "IPY_MODEL_99f3c164ee9c4b6092f3d52c3915d186"
      }
     },
     "aa1ce88f4a8545bf8523e8b509fa23be": {
      "model_module": "anywidget",
      "model_module_version": "0.0.4",
      "model_name": "AnyModel",
      "state": {
       "_anywidget_id": "__main__.CounterWidget",
       "_css": "\n.counter-btn {\n  background-image: linear-gradient(to right, #a1c4fd, #c2e9fb);\n  border: 0;\n  border-radius: 10px;\n  padding: 10px 50px;\n}\n",
       "_esm": "\nexport function render(view) {\n  let counter = Object.assign(document.createElement(\"button\"), {\n    className: \"counter-btn\",\n    innerHTML: `count is ${view.model.get(\"count\")}`,\n    onclick: () => {\n      view.model.set(\"count\", view.model.get(\"count\") + 1);\n      view.model.save_changes();\n    },\n  });\n  view.model.on(\"change:count\", () => {\n    counter.innerHTML = `count is ${view.model.get(\"count\")}`;\n  });\n  view.el.appendChild(counter);\n}\n",
       "_model_module": "anywidget",
       "_model_module_version": "0.0.4",
       "_model_name": "AnyModel",
       "_view_module": "anywidget",
       "_view_module_version": "0.0.4",
       "_view_name": "AnyView",
       "count": 0,
       "layout": "IPY_MODEL_0545b9f2eb414c10ad3f88de3cb857b3"
      }
     },
     "ccb68b18ce834f72b5004ab7f4364fc4": {
      "model_module": "anywidget",
      "model_module_version": "0.0.4",
      "model_name": "AnyModel",
      "state": {
       "_anywidget_id": "__main__.CounterWidget",
       "_css": "\n.counter-btn {\n  background-image: linear-gradient(to right, #a1c4fd, #c2e9fb);\n  border: 0;\n  border-radius: 10px;\n  padding: 10px 50px;\n  color: black;\n}\n",
       "_esm": "\nexport function render(view) {\n  let counter = Object.assign(document.createElement(\"button\"), {\n    className: \"counter-btn\",\n    innerHTML: `count is ${view.model.get(\"count\")}`,\n    onclick: () => {\n      view.model.set(\"count\", view.model.get(\"count\") + 1);\n      view.model.save_changes();\n    },\n  });\n  view.model.on(\"change:count\", () => {\n    counter.innerHTML = `count is ${view.model.get(\"count\")}`;\n  });\n  view.el.appendChild(counter);\n}\n",
       "_model_module": "anywidget",
       "_model_module_version": "0.0.4",
       "_model_name": "AnyModel",
       "_view_module": "anywidget",
       "_view_module_version": "0.0.4",
       "_view_name": "AnyView",
       "count": 0,
       "layout": "IPY_MODEL_456781a269754c1bb7773fe8734fb3c2"
      }
     },
     "f3e26fafbe044f05b9811530818ee515": {
      "model_module": "@jupyter-widgets/base",
      "model_module_version": "2.0.0",
      "model_name": "LayoutModel",
      "state": {}
     },
     "f563c986db1f4c45b5d3a197462d9f2e": {
      "model_module": "anywidget",
      "model_module_version": "0.0.4",
      "model_name": "AnyModel",
      "state": {
       "_anywidget_id": "__main__.CounterWidget",
       "_css": "\n.counter-btn {\n  background-image: linear-gradient(to right, #a1c4fd, #c2e9fb);\n  border: 0;\n  border-radius: 10px;\n  padding: 10px 50px;\n  color: black;\n}\n",
       "_esm": "\nexport function render(view) {\n  let counter = Object.assign(document.createElement(\"button\"), {\n    className: \"counter-btn\",\n    innerHTML: `count is ${view.model.get(\"count\")}`,\n    onclick: () => {\n      view.model.set(\"count\", view.model.get(\"count\") + 1);\n      view.model.save_changes();\n    },\n  });\n  view.model.on(\"change:count\", () => {\n    counter.innerHTML = `count is ${view.model.get(\"count\")}`;\n  });\n  view.el.appendChild(counter);\n}\n",
       "_model_module": "anywidget",
       "_model_module_version": "0.0.4",
       "_model_name": "AnyModel",
       "_view_module": "anywidget",
       "_view_module_version": "0.0.4",
       "_view_name": "AnyView",
       "count": 0,
       "layout": "IPY_MODEL_4b32e77b56b241e197246ac39c9008de"
      }
     },
     "f6f1bca0c6944f97a3df4ef9d2373acd": {
      "model_module": "anywidget",
      "model_module_version": "0.0.4",
      "model_name": "AnyModel",
      "state": {
       "_anywidget_id": "__main__.CounterWidget",
       "_css": "\n.counter-btn {\n  background-image: linear-gradient(to right, #a1c4fd, #c2e9fb);\n  border: 0;\n  border-radius: 10px;\n  padding: 10px 50px;\n  color: black;\n}\n",
       "_esm": "\nexport function render(view) {\n  let counter = Object.assign(document.createElement(\"button\"), {\n    className: \"counter-btn\",\n    innerHTML: `count is ${view.model.get(\"count\")}`,\n    onclick: () => {\n      view.model.set(\"count\", view.model.get(\"count\") + 1);\n      view.model.save_changes();\n    },\n  });\n  view.model.on(\"change:count\", () => {\n    counter.innerHTML = `count is ${view.model.get(\"count\")}`;\n  });\n  view.el.appendChild(counter);\n}\n",
       "_model_module": "anywidget",
       "_model_module_version": "0.0.4",
       "_model_name": "AnyModel",
       "_view_module": "anywidget",
       "_view_module_version": "0.0.4",
       "_view_name": "AnyView",
       "count": 0,
       "layout": "IPY_MODEL_4ef72c0a9e9845dcadb99955961131d2"
      }
     }
    },
    "version_major": 2,
    "version_minor": 0
   }
  }
 },
 "nbformat": 4,
 "nbformat_minor": 5
}
