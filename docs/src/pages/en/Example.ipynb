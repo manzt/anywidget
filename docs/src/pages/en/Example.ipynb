{
 "cells": [
  {
   "cell_type": "raw",
   "id": "2820e80e-e899-4ee9-a1a8-3ebc8b411a64",
   "metadata": {},
   "source": [
    "---\n",
    "title: blog post\n",
    "description: Something something something\n",
    "layout: ../../layouts/MainLayout.astro\n",
    "---"
   ]
  },
  {
   "cell_type": "markdown",
   "id": "0948242f",
   "metadata": {},
   "source": [
    "## Example\n",
    "in this post we will talk about anywidget"
   ]
  },
  {
   "cell_type": "code",
   "execution_count": null,
   "id": "c47b8145",
   "metadata": {},
   "outputs": [],
   "source": [
    "import anywidget\n",
    "import traitlets\n",
    "\n",
    "CSS = \"\"\"\n",
    ".counter-btn {\n",
    "  background-image: linear-gradient(to right, #a1c4fd, #c2e9fb);\n",
    "  border: 0;\n",
    "  border-radius: 10px;\n",
    "  padding: 10px 50px;\n",
    "  color: black;\n",
    "}\n",
    "\"\"\"\n",
    "\n",
    "ESM = \"\"\"\n",
    "export function render(view) {\n",
    "  let counter = Object.assign(document.createElement(\"button\"), {\n",
    "    className: \"counter-btn\",\n",
    "    innerHTML: `count is ${view.model.get(\"count\")}`,\n",
    "    onclick: () => {\n",
    "      view.model.set(\"count\", view.model.get(\"count\") + 1);\n",
    "      view.model.save_changes();\n",
    "    },\n",
    "  });\n",
    "  view.model.on(\"change:count\", () => {\n",
    "    counter.innerHTML = `count is ${view.model.get(\"count\")}`;\n",
    "  });\n",
    "  view.el.appendChild(counter);\n",
    "}\n",
    "\"\"\"\n",
    "\n",
    "class CounterWidget(anywidget.AnyWidget):\n",
    "    _esm = ESM # required, must export `render`\n",
    "    _css = CSS # optional\n",
    "    count = traitlets.Int(0).tag(sync=True)\n",
    "\n",
    "w = CounterWidget()\n",
    "w.count = 60\n",
    "\n",
    "w"
   ]
  },
  {
   "cell_type": "code",
   "execution_count": null,
   "id": "1b0f1a15",
   "metadata": {},
   "outputs": [],
   "source": [
    "w"
   ]
  },
  {
   "cell_type": "code",
   "execution_count": null,
   "id": "54c68cd5-a25e-462b-b618-55aaf5af9e68",
   "metadata": {},
   "outputs": [],
   "source": []
  },
  {
   "cell_type": "code",
   "execution_count": null,
   "id": "6ddcb673-1abe-484a-8a43-2c641eef9506",
   "metadata": {},
   "outputs": [],
   "source": []
  }
 ],
 "metadata": {
  "kernelspec": {
   "display_name": "Python 3 (ipykernel)",
   "language": "python",
   "name": "python3"
  },
  "language_info": {
   "codemirror_mode": {
    "name": "ipython",
    "version": 3
   },
   "file_extension": ".py",
   "mimetype": "text/x-python",
   "name": "python",
   "nbconvert_exporter": "python",
   "pygments_lexer": "ipython3",
   "version": "3.11.0"
  },
  "widgets": {
   "application/vnd.jupyter.widget-state+json": {
    "state": {},
    "version_major": 2,
    "version_minor": 0
   }
  }
 },
 "nbformat": 4,
 "nbformat_minor": 5
}
